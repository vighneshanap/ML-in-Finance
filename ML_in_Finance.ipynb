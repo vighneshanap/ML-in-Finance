{
  "nbformat": 4,
  "nbformat_minor": 0,
  "metadata": {
    "colab": {
      "name": "ML in Finance.ipynb",
      "version": "0.3.2",
      "provenance": [],
      "collapsed_sections": []
    },
    "kernelspec": {
      "name": "python3",
      "display_name": "Python 3"
    }
  },
  "cells": [
    {
      "cell_type": "markdown",
      "metadata": {
        "id": "GAojvalAcPb8",
        "colab_type": "text"
      },
      "source": [
        "# Make Money With Machine Learning (Week 2) - Finance\n",
        "# Stock Prediction\n",
        "\n",
        "![alt text](https://miro.medium.com/max/3840/1*opzxrBna63YDbd8_pM5trw.png)\n"
      ]
    },
    {
      "cell_type": "code",
      "metadata": {
        "id": "p9U3GFZLspJm",
        "colab_type": "code",
        "colab": {
          "base_uri": "https://localhost:8080/",
          "height": 139
        },
        "outputId": "8f1f0a12-fb2a-41a1-a0b2-d0532bd47d72"
      },
      "source": [
        "#Execute seperately first\n",
        "pip install talib-binary"
      ],
      "execution_count": 1,
      "outputs": [
        {
          "output_type": "stream",
          "text": [
            "Collecting talib-binary\n",
            "\u001b[?25l  Downloading https://files.pythonhosted.org/packages/82/6a/d8842b73121a35f58ce55da6f6b54ba2afebee16424b9df09a302e66ed51/talib_binary-0.4.19-cp36-cp36m-manylinux1_x86_64.whl (2.4MB)\n",
            "\u001b[K     |████████████████████████████████| 2.4MB 4.8MB/s \n",
            "\u001b[?25hRequirement already satisfied: numpy in /usr/local/lib/python3.6/dist-packages (from talib-binary) (1.16.5)\n",
            "Installing collected packages: talib-binary\n",
            "Successfully installed talib-binary-0.4.19\n"
          ],
          "name": "stdout"
        }
      ]
    },
    {
      "cell_type": "markdown",
      "metadata": {
        "id": "UjQfdTc9AGC1",
        "colab_type": "text"
      },
      "source": [
        "# 1. Preparing data and a linear model\n",
        "\n",
        "In this Section, we will see how machine learning can be used in finance. We will also explore some stock data, and prepare it for machine learning algorithms. Finally, we will fit our first machine learning model -- a linear model, in order to predict future price changes of stocks."
      ]
    },
    {
      "cell_type": "code",
      "metadata": {
        "id": "upQSg4RZaWOb",
        "colab_type": "code",
        "colab": {}
      },
      "source": [
        "#pip install talib-binary\n",
        "#import packages\n",
        "import pandas as pd\n",
        "import datetime\n",
        "import pandas_datareader.data as web\n",
        "from pandas import Series, DataFrame\n",
        "import numpy as np\n",
        "\n",
        "#to plot within notebook\n",
        "import matplotlib.pyplot as plt\n",
        "%matplotlib inline\n",
        "import seaborn as sns\n",
        "\n",
        "import talib"
      ],
      "execution_count": 0,
      "outputs": []
    },
    {
      "cell_type": "code",
      "metadata": {
        "id": "VQa-15Jja36C",
        "colab_type": "code",
        "colab": {}
      },
      "source": [
        "#to get the stock data\n",
        "start = datetime.datetime(2014, 1, 1)\n",
        "end = datetime.datetime(2019, 1, 1)\n",
        "\n",
        "df = web.DataReader(\"AAPL\", 'yahoo', start, end)\n",
        "google = web.DataReader(\"GOOGL\", 'yahoo', start, end)"
      ],
      "execution_count": 0,
      "outputs": []
    },
    {
      "cell_type": "markdown",
      "metadata": {
        "id": "AF2U24oXlM9o",
        "colab_type": "text"
      },
      "source": [
        "# Explore the data with some EDA\n",
        "First, let's explore the data. Any time we begin a machine learning (ML) project, we need to first do some exploratory data analysis (EDA) to familiarize ourselves with the data. This includes things like:\n",
        "\n",
        "-raw data plots\n",
        "-histograms\n",
        "-and more...\n",
        "\n",
        "\n",
        "I typically begin with raw data plots and histograms. This allows us to understand our data's distributions. If it's a normal distribution, we can use things like parametric statistics."
      ]
    },
    {
      "cell_type": "code",
      "metadata": {
        "id": "Dv8_g8o0bWVQ",
        "colab_type": "code",
        "outputId": "6d928f2c-85a9-40c4-a22e-53b96f96ee14",
        "colab": {
          "base_uri": "https://localhost:8080/",
          "height": 235
        }
      },
      "source": [
        "df.tail()"
      ],
      "execution_count": 4,
      "outputs": [
        {
          "output_type": "execute_result",
          "data": {
            "text/html": [
              "<div>\n",
              "<style scoped>\n",
              "    .dataframe tbody tr th:only-of-type {\n",
              "        vertical-align: middle;\n",
              "    }\n",
              "\n",
              "    .dataframe tbody tr th {\n",
              "        vertical-align: top;\n",
              "    }\n",
              "\n",
              "    .dataframe thead th {\n",
              "        text-align: right;\n",
              "    }\n",
              "</style>\n",
              "<table border=\"1\" class=\"dataframe\">\n",
              "  <thead>\n",
              "    <tr style=\"text-align: right;\">\n",
              "      <th></th>\n",
              "      <th>High</th>\n",
              "      <th>Low</th>\n",
              "      <th>Open</th>\n",
              "      <th>Close</th>\n",
              "      <th>Volume</th>\n",
              "      <th>Adj Close</th>\n",
              "    </tr>\n",
              "    <tr>\n",
              "      <th>Date</th>\n",
              "      <th></th>\n",
              "      <th></th>\n",
              "      <th></th>\n",
              "      <th></th>\n",
              "      <th></th>\n",
              "      <th></th>\n",
              "    </tr>\n",
              "  </thead>\n",
              "  <tbody>\n",
              "    <tr>\n",
              "      <th>2018-12-24</th>\n",
              "      <td>151.550003</td>\n",
              "      <td>146.589996</td>\n",
              "      <td>148.149994</td>\n",
              "      <td>146.830002</td>\n",
              "      <td>37169200.0</td>\n",
              "      <td>145.090836</td>\n",
              "    </tr>\n",
              "    <tr>\n",
              "      <th>2018-12-26</th>\n",
              "      <td>157.229996</td>\n",
              "      <td>146.720001</td>\n",
              "      <td>148.300003</td>\n",
              "      <td>157.169998</td>\n",
              "      <td>58582500.0</td>\n",
              "      <td>155.308350</td>\n",
              "    </tr>\n",
              "    <tr>\n",
              "      <th>2018-12-27</th>\n",
              "      <td>156.770004</td>\n",
              "      <td>150.070007</td>\n",
              "      <td>155.839996</td>\n",
              "      <td>156.149994</td>\n",
              "      <td>53117100.0</td>\n",
              "      <td>154.300446</td>\n",
              "    </tr>\n",
              "    <tr>\n",
              "      <th>2018-12-28</th>\n",
              "      <td>158.520004</td>\n",
              "      <td>154.550003</td>\n",
              "      <td>157.500000</td>\n",
              "      <td>156.229996</td>\n",
              "      <td>42291400.0</td>\n",
              "      <td>154.379486</td>\n",
              "    </tr>\n",
              "    <tr>\n",
              "      <th>2018-12-31</th>\n",
              "      <td>159.360001</td>\n",
              "      <td>156.479996</td>\n",
              "      <td>158.529999</td>\n",
              "      <td>157.740005</td>\n",
              "      <td>35003500.0</td>\n",
              "      <td>155.871613</td>\n",
              "    </tr>\n",
              "  </tbody>\n",
              "</table>\n",
              "</div>"
            ],
            "text/plain": [
              "                  High         Low  ...      Volume   Adj Close\n",
              "Date                                ...                        \n",
              "2018-12-24  151.550003  146.589996  ...  37169200.0  145.090836\n",
              "2018-12-26  157.229996  146.720001  ...  58582500.0  155.308350\n",
              "2018-12-27  156.770004  150.070007  ...  53117100.0  154.300446\n",
              "2018-12-28  158.520004  154.550003  ...  42291400.0  154.379486\n",
              "2018-12-31  159.360001  156.479996  ...  35003500.0  155.871613\n",
              "\n",
              "[5 rows x 6 columns]"
            ]
          },
          "metadata": {
            "tags": []
          },
          "execution_count": 4
        }
      ]
    },
    {
      "cell_type": "code",
      "metadata": {
        "id": "sO3dJ-OllVWC",
        "colab_type": "code",
        "outputId": "1957f0df-3d7b-4cdd-d81a-123102209fc3",
        "colab": {
          "base_uri": "https://localhost:8080/",
          "height": 235
        }
      },
      "source": [
        "google.tail()"
      ],
      "execution_count": 5,
      "outputs": [
        {
          "output_type": "execute_result",
          "data": {
            "text/html": [
              "<div>\n",
              "<style scoped>\n",
              "    .dataframe tbody tr th:only-of-type {\n",
              "        vertical-align: middle;\n",
              "    }\n",
              "\n",
              "    .dataframe tbody tr th {\n",
              "        vertical-align: top;\n",
              "    }\n",
              "\n",
              "    .dataframe thead th {\n",
              "        text-align: right;\n",
              "    }\n",
              "</style>\n",
              "<table border=\"1\" class=\"dataframe\">\n",
              "  <thead>\n",
              "    <tr style=\"text-align: right;\">\n",
              "      <th></th>\n",
              "      <th>High</th>\n",
              "      <th>Low</th>\n",
              "      <th>Open</th>\n",
              "      <th>Close</th>\n",
              "      <th>Volume</th>\n",
              "      <th>Adj Close</th>\n",
              "    </tr>\n",
              "    <tr>\n",
              "      <th>Date</th>\n",
              "      <th></th>\n",
              "      <th></th>\n",
              "      <th></th>\n",
              "      <th></th>\n",
              "      <th></th>\n",
              "      <th></th>\n",
              "    </tr>\n",
              "  </thead>\n",
              "  <tbody>\n",
              "    <tr>\n",
              "      <th>2018-12-24</th>\n",
              "      <td>1012.119995</td>\n",
              "      <td>977.659973</td>\n",
              "      <td>984.320007</td>\n",
              "      <td>984.669983</td>\n",
              "      <td>1818000.0</td>\n",
              "      <td>984.669983</td>\n",
              "    </tr>\n",
              "    <tr>\n",
              "      <th>2018-12-26</th>\n",
              "      <td>1048.449951</td>\n",
              "      <td>992.650024</td>\n",
              "      <td>997.989990</td>\n",
              "      <td>1047.849976</td>\n",
              "      <td>2315900.0</td>\n",
              "      <td>1047.849976</td>\n",
              "    </tr>\n",
              "    <tr>\n",
              "      <th>2018-12-27</th>\n",
              "      <td>1053.339966</td>\n",
              "      <td>1007.000000</td>\n",
              "      <td>1026.199951</td>\n",
              "      <td>1052.900024</td>\n",
              "      <td>2299800.0</td>\n",
              "      <td>1052.900024</td>\n",
              "    </tr>\n",
              "    <tr>\n",
              "      <th>2018-12-28</th>\n",
              "      <td>1064.229980</td>\n",
              "      <td>1042.000000</td>\n",
              "      <td>1059.500000</td>\n",
              "      <td>1046.680054</td>\n",
              "      <td>1719900.0</td>\n",
              "      <td>1046.680054</td>\n",
              "    </tr>\n",
              "    <tr>\n",
              "      <th>2018-12-31</th>\n",
              "      <td>1062.989990</td>\n",
              "      <td>1033.040039</td>\n",
              "      <td>1057.829956</td>\n",
              "      <td>1044.959961</td>\n",
              "      <td>1655500.0</td>\n",
              "      <td>1044.959961</td>\n",
              "    </tr>\n",
              "  </tbody>\n",
              "</table>\n",
              "</div>"
            ],
            "text/plain": [
              "                   High          Low  ...     Volume    Adj Close\n",
              "Date                                  ...                        \n",
              "2018-12-24  1012.119995   977.659973  ...  1818000.0   984.669983\n",
              "2018-12-26  1048.449951   992.650024  ...  2315900.0  1047.849976\n",
              "2018-12-27  1053.339966  1007.000000  ...  2299800.0  1052.900024\n",
              "2018-12-28  1064.229980  1042.000000  ...  1719900.0  1046.680054\n",
              "2018-12-31  1062.989990  1033.040039  ...  1655500.0  1044.959961\n",
              "\n",
              "[5 rows x 6 columns]"
            ]
          },
          "metadata": {
            "tags": []
          },
          "execution_count": 5
        }
      ]
    },
    {
      "cell_type": "code",
      "metadata": {
        "id": "vH-cAZtflZga",
        "colab_type": "code",
        "outputId": "57e36727-0b89-4a4f-c248-b04d78679669",
        "colab": {
          "base_uri": "https://localhost:8080/",
          "height": 297
        }
      },
      "source": [
        "df.describe()"
      ],
      "execution_count": 6,
      "outputs": [
        {
          "output_type": "execute_result",
          "data": {
            "text/html": [
              "<div>\n",
              "<style scoped>\n",
              "    .dataframe tbody tr th:only-of-type {\n",
              "        vertical-align: middle;\n",
              "    }\n",
              "\n",
              "    .dataframe tbody tr th {\n",
              "        vertical-align: top;\n",
              "    }\n",
              "\n",
              "    .dataframe thead th {\n",
              "        text-align: right;\n",
              "    }\n",
              "</style>\n",
              "<table border=\"1\" class=\"dataframe\">\n",
              "  <thead>\n",
              "    <tr style=\"text-align: right;\">\n",
              "      <th></th>\n",
              "      <th>High</th>\n",
              "      <th>Low</th>\n",
              "      <th>Open</th>\n",
              "      <th>Close</th>\n",
              "      <th>Volume</th>\n",
              "      <th>Adj Close</th>\n",
              "    </tr>\n",
              "  </thead>\n",
              "  <tbody>\n",
              "    <tr>\n",
              "      <th>count</th>\n",
              "      <td>1258.000000</td>\n",
              "      <td>1258.000000</td>\n",
              "      <td>1258.000000</td>\n",
              "      <td>1258.000000</td>\n",
              "      <td>1.258000e+03</td>\n",
              "      <td>1258.000000</td>\n",
              "    </tr>\n",
              "    <tr>\n",
              "      <th>mean</th>\n",
              "      <td>132.355248</td>\n",
              "      <td>130.079289</td>\n",
              "      <td>131.230753</td>\n",
              "      <td>131.241425</td>\n",
              "      <td>4.293548e+07</td>\n",
              "      <td>125.196498</td>\n",
              "    </tr>\n",
              "    <tr>\n",
              "      <th>std</th>\n",
              "      <td>37.771772</td>\n",
              "      <td>37.064776</td>\n",
              "      <td>37.435126</td>\n",
              "      <td>37.414122</td>\n",
              "      <td>2.358373e+07</td>\n",
              "      <td>38.716523</td>\n",
              "    </tr>\n",
              "    <tr>\n",
              "      <th>min</th>\n",
              "      <td>71.647141</td>\n",
              "      <td>70.507141</td>\n",
              "      <td>70.739998</td>\n",
              "      <td>71.397141</td>\n",
              "      <td>1.147590e+07</td>\n",
              "      <td>64.441742</td>\n",
              "    </tr>\n",
              "    <tr>\n",
              "      <th>25%</th>\n",
              "      <td>104.374998</td>\n",
              "      <td>102.440002</td>\n",
              "      <td>102.900000</td>\n",
              "      <td>103.037502</td>\n",
              "      <td>2.660625e+07</td>\n",
              "      <td>96.386761</td>\n",
              "    </tr>\n",
              "    <tr>\n",
              "      <th>50%</th>\n",
              "      <td>119.889999</td>\n",
              "      <td>118.215000</td>\n",
              "      <td>118.940002</td>\n",
              "      <td>119.180000</td>\n",
              "      <td>3.698370e+07</td>\n",
              "      <td>112.138847</td>\n",
              "    </tr>\n",
              "    <tr>\n",
              "      <th>75%</th>\n",
              "      <td>159.990002</td>\n",
              "      <td>156.707500</td>\n",
              "      <td>158.522499</td>\n",
              "      <td>157.830002</td>\n",
              "      <td>5.234740e+07</td>\n",
              "      <td>153.961807</td>\n",
              "    </tr>\n",
              "    <tr>\n",
              "      <th>max</th>\n",
              "      <td>233.470001</td>\n",
              "      <td>229.779999</td>\n",
              "      <td>230.779999</td>\n",
              "      <td>232.070007</td>\n",
              "      <td>2.663808e+08</td>\n",
              "      <td>228.523819</td>\n",
              "    </tr>\n",
              "  </tbody>\n",
              "</table>\n",
              "</div>"
            ],
            "text/plain": [
              "              High          Low  ...        Volume    Adj Close\n",
              "count  1258.000000  1258.000000  ...  1.258000e+03  1258.000000\n",
              "mean    132.355248   130.079289  ...  4.293548e+07   125.196498\n",
              "std      37.771772    37.064776  ...  2.358373e+07    38.716523\n",
              "min      71.647141    70.507141  ...  1.147590e+07    64.441742\n",
              "25%     104.374998   102.440002  ...  2.660625e+07    96.386761\n",
              "50%     119.889999   118.215000  ...  3.698370e+07   112.138847\n",
              "75%     159.990002   156.707500  ...  5.234740e+07   153.961807\n",
              "max     233.470001   229.779999  ...  2.663808e+08   228.523819\n",
              "\n",
              "[8 rows x 6 columns]"
            ]
          },
          "metadata": {
            "tags": []
          },
          "execution_count": 6
        }
      ]
    },
    {
      "cell_type": "code",
      "metadata": {
        "id": "gzoW4kuslZVD",
        "colab_type": "code",
        "outputId": "8f220219-f559-4e81-d2e4-a3e1cdc80df3",
        "colab": {
          "base_uri": "https://localhost:8080/",
          "height": 297
        }
      },
      "source": [
        "google.describe()"
      ],
      "execution_count": 7,
      "outputs": [
        {
          "output_type": "execute_result",
          "data": {
            "text/html": [
              "<div>\n",
              "<style scoped>\n",
              "    .dataframe tbody tr th:only-of-type {\n",
              "        vertical-align: middle;\n",
              "    }\n",
              "\n",
              "    .dataframe tbody tr th {\n",
              "        vertical-align: top;\n",
              "    }\n",
              "\n",
              "    .dataframe thead th {\n",
              "        text-align: right;\n",
              "    }\n",
              "</style>\n",
              "<table border=\"1\" class=\"dataframe\">\n",
              "  <thead>\n",
              "    <tr style=\"text-align: right;\">\n",
              "      <th></th>\n",
              "      <th>High</th>\n",
              "      <th>Low</th>\n",
              "      <th>Open</th>\n",
              "      <th>Close</th>\n",
              "      <th>Volume</th>\n",
              "      <th>Adj Close</th>\n",
              "    </tr>\n",
              "  </thead>\n",
              "  <tbody>\n",
              "    <tr>\n",
              "      <th>count</th>\n",
              "      <td>1258.000000</td>\n",
              "      <td>1258.000000</td>\n",
              "      <td>1258.000000</td>\n",
              "      <td>1258.000000</td>\n",
              "      <td>1.258000e+03</td>\n",
              "      <td>1258.000000</td>\n",
              "    </tr>\n",
              "    <tr>\n",
              "      <th>mean</th>\n",
              "      <td>809.258642</td>\n",
              "      <td>795.009542</td>\n",
              "      <td>802.572477</td>\n",
              "      <td>802.265164</td>\n",
              "      <td>2.094093e+06</td>\n",
              "      <td>802.265164</td>\n",
              "    </tr>\n",
              "    <tr>\n",
              "      <th>std</th>\n",
              "      <td>217.150533</td>\n",
              "      <td>212.581804</td>\n",
              "      <td>214.805075</td>\n",
              "      <td>214.871210</td>\n",
              "      <td>1.161235e+06</td>\n",
              "      <td>214.871210</td>\n",
              "    </tr>\n",
              "    <tr>\n",
              "      <th>min</th>\n",
              "      <td>500.279999</td>\n",
              "      <td>490.910004</td>\n",
              "      <td>499.239990</td>\n",
              "      <td>497.059998</td>\n",
              "      <td>5.206000e+05</td>\n",
              "      <td>497.059998</td>\n",
              "    </tr>\n",
              "    <tr>\n",
              "      <th>25%</th>\n",
              "      <td>591.458603</td>\n",
              "      <td>583.282516</td>\n",
              "      <td>587.690018</td>\n",
              "      <td>587.234055</td>\n",
              "      <td>1.400900e+06</td>\n",
              "      <td>587.234055</td>\n",
              "    </tr>\n",
              "    <tr>\n",
              "      <th>50%</th>\n",
              "      <td>778.095001</td>\n",
              "      <td>764.244995</td>\n",
              "      <td>770.364990</td>\n",
              "      <td>770.300018</td>\n",
              "      <td>1.746350e+06</td>\n",
              "      <td>770.300018</td>\n",
              "    </tr>\n",
              "    <tr>\n",
              "      <th>75%</th>\n",
              "      <td>997.582489</td>\n",
              "      <td>982.744980</td>\n",
              "      <td>991.740005</td>\n",
              "      <td>991.759995</td>\n",
              "      <td>2.352500e+06</td>\n",
              "      <td>991.759995</td>\n",
              "    </tr>\n",
              "    <tr>\n",
              "      <th>max</th>\n",
              "      <td>1291.439941</td>\n",
              "      <td>1263.000000</td>\n",
              "      <td>1289.119995</td>\n",
              "      <td>1285.500000</td>\n",
              "      <td>1.285810e+07</td>\n",
              "      <td>1285.500000</td>\n",
              "    </tr>\n",
              "  </tbody>\n",
              "</table>\n",
              "</div>"
            ],
            "text/plain": [
              "              High          Low  ...        Volume    Adj Close\n",
              "count  1258.000000  1258.000000  ...  1.258000e+03  1258.000000\n",
              "mean    809.258642   795.009542  ...  2.094093e+06   802.265164\n",
              "std     217.150533   212.581804  ...  1.161235e+06   214.871210\n",
              "min     500.279999   490.910004  ...  5.206000e+05   497.059998\n",
              "25%     591.458603   583.282516  ...  1.400900e+06   587.234055\n",
              "50%     778.095001   764.244995  ...  1.746350e+06   770.300018\n",
              "75%     997.582489   982.744980  ...  2.352500e+06   991.759995\n",
              "max    1291.439941  1263.000000  ...  1.285810e+07  1285.500000\n",
              "\n",
              "[8 rows x 6 columns]"
            ]
          },
          "metadata": {
            "tags": []
          },
          "execution_count": 7
        }
      ]
    },
    {
      "cell_type": "code",
      "metadata": {
        "id": "fGsvvfpHldHI",
        "colab_type": "code",
        "outputId": "f11853b9-616e-4561-8781-151e492f62ae",
        "colab": {
          "base_uri": "https://localhost:8080/",
          "height": 204
        }
      },
      "source": [
        "df.info()"
      ],
      "execution_count": 8,
      "outputs": [
        {
          "output_type": "stream",
          "text": [
            "<class 'pandas.core.frame.DataFrame'>\n",
            "DatetimeIndex: 1258 entries, 2014-01-02 to 2018-12-31\n",
            "Data columns (total 6 columns):\n",
            "High         1258 non-null float64\n",
            "Low          1258 non-null float64\n",
            "Open         1258 non-null float64\n",
            "Close        1258 non-null float64\n",
            "Volume       1258 non-null float64\n",
            "Adj Close    1258 non-null float64\n",
            "dtypes: float64(6)\n",
            "memory usage: 68.8 KB\n"
          ],
          "name": "stdout"
        }
      ]
    },
    {
      "cell_type": "code",
      "metadata": {
        "id": "Lrbo-0hweK0-",
        "colab_type": "code",
        "outputId": "fbf3f744-b573-43af-8ad9-9d2b157d9785",
        "colab": {
          "base_uri": "https://localhost:8080/",
          "height": 281
        }
      },
      "source": [
        "df['Adj Close'].plot(label='APPL', legend=True, secondary_y=True)\n",
        "plt.show()"
      ],
      "execution_count": 9,
      "outputs": [
        {
          "output_type": "display_data",
          "data": {
            "image/png": "[encoded data removed]",
            "text/plain": [
              "<Figure size 432x288 with 2 Axes>"
            ]
          },
          "metadata": {
            "tags": []
          }
        }
      ]
    },
    {
      "cell_type": "code",
      "metadata": {
        "id": "CEnmch7IeQM1",
        "colab_type": "code",
        "outputId": "a1bcd0f4-8eee-4b3d-e5e1-c4dc3c4fb2bf",
        "colab": {
          "base_uri": "https://localhost:8080/",
          "height": 283
        }
      },
      "source": [
        "df['Adj Close'].pct_change().plot.hist(bins=50)\n",
        "plt.xlabel('adjusted close 1-day percent change')\n",
        "plt.show()"
      ],
      "execution_count": 10,
      "outputs": [
        {
          "output_type": "display_data",
          "data": {
            "image/png": "[encoded data removed]",
            "text/plain": [
              "<Figure size 432x288 with 1 Axes>"
            ]
          },
          "metadata": {
            "tags": []
          }
        }
      ]
    },
    {
      "cell_type": "code",
      "metadata": {
        "id": "G86XvwsEliHW",
        "colab_type": "code",
        "outputId": "4638dbf0-ab21-47a4-d88b-9c597c4dcc3c",
        "colab": {
          "base_uri": "https://localhost:8080/",
          "height": 282
        }
      },
      "source": [
        "vol = df['Volume']\n",
        "vol.plot.hist(bins=50)\n",
        "plt.show()"
      ],
      "execution_count": 11,
      "outputs": [
        {
          "output_type": "display_data",
          "data": {
            "image/png": "[encoded data removed]",
            "text/plain": [
              "<Figure size 432x288 with 1 Axes>"
            ]
          },
          "metadata": {
            "tags": []
          }
        }
      ]
    },
    {
      "cell_type": "markdown",
      "metadata": {
        "id": "3-_Fd1L7lpzx",
        "colab_type": "text"
      },
      "source": [
        "# Correlations\n",
        "Correlations are nice to check out before building machine learning models, because we can see which features correlate to the target most strongly. Pearson's correlation coefficient is often used, which only detects linear relationships. It's commonly assumed our data is normally distributed, which we can \"eyeball\" from histograms. Highly correlated variables have a Pearson correlation coefficient near 1 (positively correlated) or -1 (negatively correlated). A value near 0 means the two variables are not linearly correlated.\n",
        "\n",
        "If we use the same time periods for previous price changes and future price changes, we can see if the stock price is mean-reverting (bounces around) or trend-following (goes up if it has been going up recently)."
      ]
    },
    {
      "cell_type": "code",
      "metadata": {
        "id": "QNDY97SAlkXu",
        "colab_type": "code",
        "outputId": "487fc708-7610-4b62-aa54-aa09f06db3dd",
        "colab": {
          "base_uri": "https://localhost:8080/",
          "height": 136
        }
      },
      "source": [
        "corr = df.corr()\n",
        "print(corr)"
      ],
      "execution_count": 12,
      "outputs": [
        {
          "output_type": "stream",
          "text": [
            "               High       Low      Open     Close    Volume  Adj Close\n",
            "High       1.000000  0.999308  0.999575  0.999513 -0.414317   0.998794\n",
            "Low        0.999308  1.000000  0.999438  0.999559 -0.432849   0.998800\n",
            "Open       0.999575  0.999438  1.000000  0.999022 -0.421627   0.998291\n",
            "Close      0.999513  0.999559  0.999022  1.000000 -0.425046   0.999231\n",
            "Volume    -0.414317 -0.432849 -0.421627 -0.425046  1.000000  -0.431600\n",
            "Adj Close  0.998794  0.998800  0.998291  0.999231 -0.431600   1.000000\n"
          ],
          "name": "stdout"
        }
      ]
    },
    {
      "cell_type": "code",
      "metadata": {
        "id": "ocigU9vglr6V",
        "colab_type": "code",
        "outputId": "3ad697b3-4b1b-4337-9f2f-b81021f567ea",
        "colab": {
          "base_uri": "https://localhost:8080/",
          "height": 320
        }
      },
      "source": [
        "# Create 10-day % changes of Adj_Close for the current day, and 10 days in the future\n",
        "df['10d_future_close'] = df['Adj Close'].shift(-10)\n",
        "df['10d_close_future_pct'] = df['10d_future_close'].pct_change(10)\n",
        "df['10d_close_pct'] = df['Adj Close'].pct_change(10)\n",
        "\n",
        "# Calculate the correlation matrix between the 10d close pecentage changes (current and future)\n",
        "corr = df[['10d_close_pct', '10d_close_future_pct']].corr()\n",
        "print(corr)\n",
        "\n",
        "# Scatter the current 10-day percent change vs the future 10-day percent change\n",
        "plt.scatter(df['10d_close_pct'], df['10d_close_future_pct'])\n",
        "plt.show()"
      ],
      "execution_count": 13,
      "outputs": [
        {
          "output_type": "stream",
          "text": [
            "                      10d_close_pct  10d_close_future_pct\n",
            "10d_close_pct              1.000000              0.017988\n",
            "10d_close_future_pct       0.017988              1.000000\n"
          ],
          "name": "stdout"
        },
        {
          "output_type": "display_data",
          "data": {
            "image/png": "[encoded data removed]",
            "text/plain": [
              "<Figure size 432x288 with 1 Axes>"
            ]
          },
          "metadata": {
            "tags": []
          }
        }
      ]
    },
    {
      "cell_type": "markdown",
      "metadata": {
        "id": "kcTA65G5lwui",
        "colab_type": "text"
      },
      "source": [
        "RSI equation\n",
        "\n",
        "RSI = 100 - (100 / 1 + RS)\n",
        "\n",
        "Whereas, \n",
        "\n",
        "RS = Average gain over n periods / Average loss over n periods\n",
        "\n"
      ]
    },
    {
      "cell_type": "markdown",
      "metadata": {
        "id": "LTtEUyxFmMDp",
        "colab_type": "text"
      },
      "source": [
        "**Create moving average and RSI features**\n",
        "We want to add historical data to our machine learning models to make better predictions, but adding lots of historical time steps is tricky. Instead, we can condense information from previous points into a single timestep with indicators.\n",
        "\n",
        "A moving average is one of the simplest indicators - it's the average of previous data points. This is the function talib.SMA() from the TAlib library.\n",
        "\n",
        "Another common technical indicator is the relative strength index (RSI). This is defined by:\n",
        "\n",
        "RSI=100−(100 / 1+RS)\n",
        "\n",
        "\n",
        "---\n",
        "\n",
        "\n",
        "RS= average gain over n periods / average loss over n periods\n",
        "\n",
        "\n",
        "---\n",
        "\n",
        "\n",
        "The n periods is set in talib.RSI() as the timeperiod argument.\n",
        "\n",
        "A common period for RSI is 14, so we'll use that as one setting in our calculations."
      ]
    },
    {
      "cell_type": "code",
      "metadata": {
        "id": "uiS9l1jPlt6h",
        "colab_type": "code",
        "outputId": "1209cee8-e278-4b2d-ff91-ce1884b8b44b",
        "colab": {
          "base_uri": "https://localhost:8080/",
          "height": 34
        }
      },
      "source": [
        "feature_names = ['10d_close_pct']  # a list of the feature names for later\n",
        "\n",
        "# Create moving averages and rsi for timeperiods of 14, 30, 50, and 200\n",
        "for n in [14, 30, 50, 200]:\n",
        "\n",
        "    # Create the moving average indicator and divide by Adj_Close\n",
        "    df['ma' + str(n)] = talib.SMA(df['Adj Close'].values,\n",
        "                              timeperiod=n) /df['Adj Close']\n",
        "    # Create the RSI indicator\n",
        "    df['rsi' + str(n)] = talib.RSI(df['Adj Close'].values, timeperiod=n)\n",
        "    \n",
        "    # Add rsi and moving average to the feature name list\n",
        "    feature_names = feature_names + ['ma' + str(n), 'rsi' + str(n)]\n",
        "\n",
        "print(feature_names)"
      ],
      "execution_count": 14,
      "outputs": [
        {
          "output_type": "stream",
          "text": [
            "['10d_close_pct', 'ma14', 'rsi14', 'ma30', 'rsi30', 'ma50', 'rsi50', 'ma200', 'rsi200']\n"
          ],
          "name": "stdout"
        }
      ]
    },
    {
      "cell_type": "markdown",
      "metadata": {
        "id": "eGRptt4SnISm",
        "colab_type": "text"
      },
      "source": [
        "**Create features and targets**\n",
        "\n",
        "We almost have features and targets that are machine-learning ready -- we have features from current price changes (5d_close_pct) and indicators (moving averages and RSI), and we created targets of future price changes (5d_close_future_pct). Now we need to break these up into separate numpy arrays so we can feed them into machine learning algorithms.\n",
        "\n",
        "Our indicators also cause us to have missing values at the beginning of the DataFrame due to the calculations. We could backfill this data, fill it with a single value, or drop the rows. Dropping the rows is a good choice, so our machine learning algorithms aren't confused by any sort of backfilled or 0-filled data. Pandas has a .dropna() function which we will use to drop any rows with missing values."
      ]
    },
    {
      "cell_type": "code",
      "metadata": {
        "id": "VZGdt5IknN4h",
        "colab_type": "code",
        "outputId": "5a99170e-7a1c-4392-a615-55611c78264f",
        "colab": {
          "base_uri": "https://localhost:8080/",
          "height": 238
        }
      },
      "source": [
        "# Drop all na values\n",
        "df = df.dropna()\n",
        "\n",
        "# Create features and targets\n",
        "# use feature_names for features; '5d_close_future_pct' for targets\n",
        "features = df[feature_names]\n",
        "targets = df['10d_close_future_pct']\n",
        "\n",
        "# Create DataFrame from target column and feature columns\n",
        "feature_and_target_cols = ['10d_close_future_pct'] + feature_names\n",
        "feat_targ_df = df[feature_and_target_cols]\n",
        "\n",
        "# Calculate correlation matrix\n",
        "corr = feat_targ_df.corr()\n",
        "print(corr)"
      ],
      "execution_count": 15,
      "outputs": [
        {
          "output_type": "stream",
          "text": [
            "                      10d_close_future_pct  10d_close_pct  ...     ma200    rsi200\n",
            "10d_close_future_pct              1.000000       0.073235  ... -0.021165 -0.011691\n",
            "10d_close_pct                     0.073235       1.000000  ... -0.412417  0.341887\n",
            "ma14                             -0.079420      -0.937651  ...  0.427283 -0.352851\n",
            "rsi14                             0.051395       0.803447  ... -0.623522  0.501204\n",
            "ma30                             -0.079285      -0.840287  ...  0.596185 -0.491168\n",
            "rsi30                             0.033557       0.658091  ... -0.794893  0.662715\n",
            "ma50                             -0.048505      -0.699622  ...  0.726511 -0.594905\n",
            "rsi50                             0.030516       0.556063  ... -0.888438  0.779653\n",
            "ma200                            -0.021165      -0.412417  ...  1.000000 -0.912694\n",
            "rsi200                           -0.011691       0.341887  ... -0.912694  1.000000\n",
            "\n",
            "[10 rows x 10 columns]\n"
          ],
          "name": "stdout"
        }
      ]
    },
    {
      "cell_type": "markdown",
      "metadata": {
        "id": "Sxa3Lw-ioKB1",
        "colab_type": "text"
      },
      "source": [
        "**Check the correlations**\n",
        "\n",
        "Before we fit our first machine learning model, let's look at the correlations between features and targets. Ideally we want large (near 1 or -1) correlations between features and targets. Examining correlations can help us tweak features to maximize correlation (for example, altering the timeperiod argument in the talib functions). It can also help us remove features that aren't correlated to the target.\n",
        "\n",
        "To easily plot a correlation matrix, we can use seaborn's heatmap() function. This takes a correlation matrix as the first argument, and has many other options. Check out the annot option -- this will help us turn on annotations."
      ]
    },
    {
      "cell_type": "code",
      "metadata": {
        "id": "P7avCUyRoS9v",
        "colab_type": "code",
        "outputId": "a015fd10-5471-4613-a6b4-8e06e4127ed3",
        "colab": {
          "base_uri": "https://localhost:8080/",
          "height": 549
        }
      },
      "source": [
        "# Plot heatmap of correlation matrix\n",
        "sns.heatmap(corr, annot=True)\n",
        "plt.yticks(rotation=0); plt.xticks(rotation=90)  # fix ticklabel directions\n",
        "plt.tight_layout()  # fits plot area to the plot, \"tightly\"\n",
        "plt.show()  # show the plot\n",
        "plt.clf()  # clear the plot area\n",
        "\n",
        "# Create a scatter plot of the most highly correlated variable with the target\n",
        "plt.scatter(df['ma200'], df['10d_close_future_pct'])\n",
        "plt.show()"
      ],
      "execution_count": 16,
      "outputs": [
        {
          "output_type": "display_data",
          "data": {
            "image/png": "[encoded data removed]",
            "text/plain": [
              "<Figure size 432x288 with 2 Axes>"
            ]
          },
          "metadata": {
            "tags": []
          }
        },
        {
          "output_type": "display_data",
          "data": {
            "image/png": "[encoded data removed]",
            "text/plain": [
              "<Figure size 432x288 with 1 Axes>"
            ]
          },
          "metadata": {
            "tags": []
          }
        }
      ]
    },
    {
      "cell_type": "markdown",
      "metadata": {
        "id": "3HT-UMuUq2sv",
        "colab_type": "text"
      },
      "source": [
        "**Create train and test features**\n",
        "\n",
        "Before we fit our linear model, we want to add a constant to our features, so we have an intercept for our linear model.\n",
        "\n",
        "We also want to create train and test features. This is so we can fit our model to the train dataset, and evaluate performance on the test dataset. We always want to check performance on data the model has not seen to make sure we're not overfitting, which is memorizing patterns in the training data too exactly.\n",
        "\n",
        "With a time series like this, we typically want to use the oldest data as our training set, and the newest data as our test set. This is so we can evaluate the performance of the model on the most recent data, which will more realistically simulate predictions on data we haven't seen yet."
      ]
    },
    {
      "cell_type": "code",
      "metadata": {
        "id": "_sHxp-wYpfwz",
        "colab_type": "code",
        "colab": {}
      },
      "source": [
        "import statsmodels.api as sm"
      ],
      "execution_count": 0,
      "outputs": []
    },
    {
      "cell_type": "code",
      "metadata": {
        "id": "zOZVNg32qF4q",
        "colab_type": "code",
        "outputId": "4fc13bf4-5c5e-4c61-8197-7a7a17c4add4",
        "colab": {
          "base_uri": "https://localhost:8080/",
          "height": 88
        }
      },
      "source": [
        "# Add a constant to the features\n",
        "linear_features = sm.add_constant(features)\n",
        "\n",
        "# Create a size for the training set that is 85% of the total number of samples\n",
        "train_size = int(0.85 * targets.shape[0])\n",
        "train_features = linear_features[:train_size]\n",
        "train_targets = targets[:train_size]\n",
        "test_features = linear_features[train_size:]\n",
        "test_targets = targets[train_size:]\n",
        "print(linear_features.shape, train_features.shape, test_features.shape)"
      ],
      "execution_count": 18,
      "outputs": [
        {
          "output_type": "stream",
          "text": [
            "(1048, 10) (890, 10) (158, 10)\n"
          ],
          "name": "stdout"
        },
        {
          "output_type": "stream",
          "text": [
            "/usr/local/lib/python3.6/dist-packages/numpy/core/fromnumeric.py:2389: FutureWarning: Method .ptp is deprecated and will be removed in a future version. Use numpy.ptp instead.\n",
            "  return ptp(axis=axis, out=out, **kwargs)\n"
          ],
          "name": "stderr"
        }
      ]
    },
    {
      "cell_type": "markdown",
      "metadata": {
        "id": "S02hoy9xtoMt",
        "colab_type": "text"
      },
      "source": [
        "**Fit a linear model**\n",
        "We'll now fit a linear model, because they are simple and easy to understand. Once we've fit our model, we can see which predictor variables appear to be meaningfully linearly correlated with the target, as well as their magnitude of effect on the target. Our judgment of whether or not predictors are significant is based on the p-values of coefficients. This is using a t-test to statistically test if the coefficient significantly differs from 0. The p-value is the percent chance that the coefficient for a feature does not differ from zero. Typically, we take a p-value of less than 0.05 to mean the coefficient is significantly different from 0."
      ]
    },
    {
      "cell_type": "code",
      "metadata": {
        "id": "XryalQ9vq4eK",
        "colab_type": "code",
        "colab": {
          "base_uri": "https://localhost:8080/",
          "height": 799
        },
        "outputId": "246095d9-d723-4d01-d31e-d6689fde88df"
      },
      "source": [
        "# Create the linear model and complete the least squares fit\n",
        "model = sm.OLS(train_targets, train_features)\n",
        "results = model.fit()  # fit the model\n",
        "print(results.summary())\n",
        "\n",
        "# examine pvalues\n",
        "# Features with p <= 0.05 are typically considered significantly different from 0\n",
        "print(results.pvalues)\n",
        "\n",
        "# Make predictions from our model for train and test sets\n",
        "train_predictions = results.predict(train_features)\n",
        "test_predictions = results.predict(test_features)"
      ],
      "execution_count": 20,
      "outputs": [
        {
          "output_type": "stream",
          "text": [
            "                             OLS Regression Results                             \n",
            "================================================================================\n",
            "Dep. Variable:     10d_close_future_pct   R-squared:                       0.085\n",
            "Model:                              OLS   Adj. R-squared:                  0.075\n",
            "Method:                   Least Squares   F-statistic:                     9.039\n",
            "Date:                  Sun, 08 Sep 2019   Prob (F-statistic):           3.82e-13\n",
            "Time:                          14:15:06   Log-Likelihood:                 1495.2\n",
            "No. Observations:                   890   AIC:                            -2970.\n",
            "Df Residuals:                       880   BIC:                            -2922.\n",
            "Df Model:                             9                                         \n",
            "Covariance Type:              nonrobust                                         \n",
            "=================================================================================\n",
            "                    coef    std err          t      P>|t|      [0.025      0.975]\n",
            "---------------------------------------------------------------------------------\n",
            "const            -0.1130      0.221     -0.512      0.609      -0.546       0.320\n",
            "10d_close_pct     0.0763      0.097      0.791      0.429      -0.113       0.266\n",
            "ma14              0.3922      0.187      2.099      0.036       0.025       0.759\n",
            "rsi14             0.0042      0.001      4.052      0.000       0.002       0.006\n",
            "ma30             -0.1055      0.159     -0.664      0.507      -0.417       0.206\n",
            "rsi30            -0.0095      0.004     -2.588      0.010      -0.017      -0.002\n",
            "ma50              0.4161      0.135      3.093      0.002       0.152       0.680\n",
            "rsi50             0.0065      0.004      1.820      0.069      -0.001       0.013\n",
            "ma200            -0.2894      0.059     -4.918      0.000      -0.405      -0.174\n",
            "rsi200           -0.0068      0.001     -5.358      0.000      -0.009      -0.004\n",
            "==============================================================================\n",
            "Omnibus:                        4.343   Durbin-Watson:                   0.203\n",
            "Prob(Omnibus):                  0.114   Jarque-Bera (JB):                4.980\n",
            "Skew:                          -0.058   Prob(JB):                       0.0829\n",
            "Kurtosis:                       3.347   Cond. No.                     2.03e+04\n",
            "==============================================================================\n",
            "\n",
            "Warnings:\n",
            "[1] Standard Errors assume that the covariance matrix of the errors is correctly specified.\n",
            "[2] The condition number is large, 2.03e+04. This might indicate that there are\n",
            "strong multicollinearity or other numerical problems.\n",
            "const            6.085024e-01\n",
            "10d_close_pct    4.294062e-01\n",
            "ma14             3.609333e-02\n",
            "rsi14            5.534277e-05\n",
            "ma30             5.068795e-01\n",
            "rsi30            9.824134e-03\n",
            "ma50             2.046000e-03\n",
            "rsi50            6.909834e-02\n",
            "ma200            1.041168e-06\n",
            "rsi200           1.075633e-07\n",
            "dtype: float64\n"
          ],
          "name": "stdout"
        }
      ]
    },
    {
      "cell_type": "markdown",
      "metadata": {
        "id": "Wmapiw6-uGCU",
        "colab_type": "text"
      },
      "source": [
        "Now we can evaluate the results from our predictions."
      ]
    },
    {
      "cell_type": "markdown",
      "metadata": {
        "id": "cmHo5MJWuTHo",
        "colab_type": "text"
      },
      "source": [
        "**Evaluate our results**\n",
        "Once we have our linear fit and predictions, we want to see how good the predictions are so we can decide if our model is any good or not. Ideally, we want to back-test any type of trading strategy. However, this is a complex and typically time-consuming experience.\n",
        "\n",
        "A quicker way to understand the performance of our model is looking at regression evaluation metrics like R2, and plotting the predictions versus the actual values of the targets. Perfect predictions would form a straight, diagonal line in such a plot, making it easy for us to eyeball how our predictions are doing in different regions of price changes. We can use matplotlib's .scatter() function to create scatter plots of the predictions and actual values."
      ]
    },
    {
      "cell_type": "code",
      "metadata": {
        "id": "SkeHOIkmuINa",
        "colab_type": "code",
        "colab": {
          "base_uri": "https://localhost:8080/",
          "height": 283
        },
        "outputId": "363af8ce-00d9-438c-a0c7-ca4d8b67c00d"
      },
      "source": [
        "# Scatter the predictions vs the targets with 80% transparency\n",
        "plt.scatter(train_predictions, train_targets, alpha=0.2, color='b', label='train')\n",
        "plt.scatter(test_predictions, test_targets, alpha=0.8, color='r', label='test')\n",
        "\n",
        "# Plot the perfect prediction line\n",
        "xmin, xmax = plt.xlim()\n",
        "plt.plot(np.arange(xmin, xmax, 0.01), np.arange(xmin, xmax, 0.01), c='k')\n",
        "\n",
        "# Set the axis labels and show the plot\n",
        "plt.xlabel('predictions')\n",
        "plt.ylabel('actual')\n",
        "plt.legend()  # show the legend\n",
        "plt.show()"
      ],
      "execution_count": 21,
      "outputs": [
        {
          "output_type": "display_data",
          "data": {
            "image/png": "[encoded data removed]",
            "text/plain": [
              "<Figure size 432x288 with 1 Axes>"
            ]
          },
          "metadata": {
            "tags": []
          }
        }
      ]
    },
    {
      "cell_type": "markdown",
      "metadata": {
        "id": "vAo-gqS1uwgc",
        "colab_type": "text"
      },
      "source": [
        "We can see our predictions are ok, but not very good yet. We need non-linearity! Coming right up...\n",
        "\n",
        "\n",
        "---\n",
        "\n"
      ]
    },
    {
      "cell_type": "markdown",
      "metadata": {
        "id": "zyruDR9EBQdP",
        "colab_type": "text"
      },
      "source": [
        "# 2. Machine learning tree methods\n",
        "\n",
        "Learn how to use tree-based machine learning models to predict future values of a stock's price, as well as how to use forest-based machine learning methods for regression and feature selection."
      ]
    },
    {
      "cell_type": "markdown",
      "metadata": {
        "id": "rqQCS7jYwMOh",
        "colab_type": "text"
      },
      "source": [
        "**Feature engineering from volume**\n",
        "\n",
        "We're going to use non-linear models to make more accurate predictions. With linear models, features must be linearly correlated to the target. Other machine learning models can combine features in non-linear ways. For example, what if the price goes up when the moving average of price is going up, and the moving average of volume is going down? The only way to capture those interactions is to either multiply the features, or to use a machine learning algorithm that can handle non-linearity (e.g. random forests).\n",
        "\n",
        "To incorporate more information that may interact with other features, we can add in weakly-correlated features"
      ]
    },
    {
      "cell_type": "code",
      "metadata": {
        "id": "sN4rqjv2ux_P",
        "colab_type": "code",
        "colab": {
          "base_uri": "https://localhost:8080/",
          "height": 269
        },
        "outputId": "eac958d4-b230-4ec2-d434-e77d91e2b15c"
      },
      "source": [
        "# Create 2 new volume features, 1-day % change and 5-day SMA of the % change\n",
        "new_features = ['Adj_Volume_1d_change', 'Adj_Volume_1d_change_SMA']\n",
        "feature_names.extend(new_features)\n",
        "df['Adj_Volume_1d_change'] = df['Volume'].pct_change(1)\n",
        "df['Adj_Volume_1d_change_SMA'] = talib.SMA(df['Adj_Volume_1d_change'].values,\n",
        "                        timeperiod=5)\n",
        "\n",
        "# Plot histogram of volume % change data\n",
        "df[new_features].plot(kind='hist', sharex=False, bins=50)\n",
        "plt.show()"
      ],
      "execution_count": 22,
      "outputs": [
        {
          "output_type": "display_data",
          "data": {
            "image/png": "[encoded data removed]",
            "text/plain": [
              "<Figure size 432x288 with 1 Axes>"
            ]
          },
          "metadata": {
            "tags": []
          }
        }
      ]
    },
    {
      "cell_type": "markdown",
      "metadata": {
        "id": "BmIiFMzZ0FIi",
        "colab_type": "text"
      },
      "source": [
        "We can see the moving average of volume changes has a much smaller range than the raw data."
      ]
    },
    {
      "cell_type": "code",
      "metadata": {
        "id": "cLHX8KdVztvS",
        "colab_type": "code",
        "colab": {
          "base_uri": "https://localhost:8080/",
          "height": 425
        },
        "outputId": "3b42ed4d-798a-413d-810e-3967c6c0d91a"
      },
      "source": [
        "df.info()"
      ],
      "execution_count": 23,
      "outputs": [
        {
          "output_type": "stream",
          "text": [
            "<class 'pandas.core.frame.DataFrame'>\n",
            "DatetimeIndex: 1048 entries, 2014-10-17 to 2018-12-14\n",
            "Data columns (total 19 columns):\n",
            "High                        1048 non-null float64\n",
            "Low                         1048 non-null float64\n",
            "Open                        1048 non-null float64\n",
            "Close                       1048 non-null float64\n",
            "Volume                      1048 non-null float64\n",
            "Adj Close                   1048 non-null float64\n",
            "10d_future_close            1048 non-null float64\n",
            "10d_close_future_pct        1048 non-null float64\n",
            "10d_close_pct               1048 non-null float64\n",
            "ma14                        1048 non-null float64\n",
            "rsi14                       1048 non-null float64\n",
            "ma30                        1048 non-null float64\n",
            "rsi30                       1048 non-null float64\n",
            "ma50                        1048 non-null float64\n",
            "rsi50                       1048 non-null float64\n",
            "ma200                       1048 non-null float64\n",
            "rsi200                      1048 non-null float64\n",
            "Adj_Volume_1d_change        1047 non-null float64\n",
            "Adj_Volume_1d_change_SMA    1043 non-null float64\n",
            "dtypes: float64(19)\n",
            "memory usage: 163.8 KB\n"
          ],
          "name": "stdout"
        }
      ]
    },
    {
      "cell_type": "markdown",
      "metadata": {
        "id": "6KYnm5iv0Lmq",
        "colab_type": "text"
      },
      "source": [
        "**Create day-of-week features**\n",
        "\n",
        "We can engineer datetime features to add even more information for our non-linear models. Most financial data has datetimes, which have lots of information in them -- year, month, day, and sometimes hour, minute, and second. But we can also get the day of the week, and things like the quarter of the year, or the elapsed time since some event (e.g. earnings reports).\n",
        "\n",
        "We are only going to get the day of the week here, since our dataset doesn't go back very far in time. The dayofweek property from the pandas datetime index will help us get the day of the week. Then we will dummy dayofweek with pandas' get_dummies(). This creates columns for each day of the week with binary values (0 or 1). We drop the first column because it can be inferred from the others."
      ]
    },
    {
      "cell_type": "code",
      "metadata": {
        "id": "3T0oMspSz-Dg",
        "colab_type": "code",
        "colab": {
          "base_uri": "https://localhost:8080/",
          "height": 170
        },
        "outputId": "5a98a430-ae91-4160-88fa-dc7edafdc9b0"
      },
      "source": [
        "# Use pandas' get_dummies function to get dummies for day of the week\n",
        "days_of_week = pd.get_dummies(df.index.dayofweek,\n",
        "                              prefix='weekday',\n",
        "                              drop_first=True)\n",
        "\n",
        "# Set the index as the original dataframe index for merging\n",
        "days_of_week.index = df.index\n",
        "\n",
        "# Join the dataframe with the days of week dataframe\n",
        "df = pd.concat([df, days_of_week], axis=1)\n",
        "\n",
        "# Add days of week to feature names\n",
        "feature_names.extend(['weekday_' + str(i) for i in range(1, 5)])\n",
        "df.dropna(inplace=True)  # drop missing values in-place\n",
        "print(df.head())"
      ],
      "execution_count": 24,
      "outputs": [
        {
          "output_type": "stream",
          "text": [
            "                  High         Low        Open  ...  weekday_2  weekday_3  weekday_4\n",
            "Date                                            ...                                 \n",
            "2014-10-24  105.489998  104.529999  105.180000  ...          0          0          1\n",
            "2014-10-27  105.480003  104.699997  104.849998  ...          0          0          0\n",
            "2014-10-28  106.739998  105.349998  105.400002  ...          0          0          0\n",
            "2014-10-29  107.370003  106.360001  106.650002  ...          1          0          0\n",
            "2014-10-30  107.349998  105.900002  106.959999  ...          0          1          0\n",
            "\n",
            "[5 rows x 23 columns]\n"
          ],
          "name": "stdout"
        }
      ]
    },
    {
      "cell_type": "markdown",
      "metadata": {
        "id": "YeKsFYsA1s_2",
        "colab_type": "text"
      },
      "source": [
        "Good work engineering new features! Let's see how they correlate to the target."
      ]
    },
    {
      "cell_type": "markdown",
      "metadata": {
        "id": "HxEkyLPj2A7x",
        "colab_type": "text"
      },
      "source": [
        "**Examine correlations of the new features**\n",
        "\n",
        "Now that we have our volume and datetime features, we want to check the correlations between our new features (stored in the new_features list) and the target (5d_close_future_pct) to see how strongly they are related. Recall pandas has the built-in .corr() method for DataFrames, and seaborn has a nice heatmap() function to show the correlations."
      ]
    },
    {
      "cell_type": "code",
      "metadata": {
        "id": "oSgdrddP1bLz",
        "colab_type": "code",
        "colab": {
          "base_uri": "https://localhost:8080/",
          "height": 297
        },
        "outputId": "c225c7cb-c43e-4207-98e8-314742b212dd"
      },
      "source": [
        "# Add the weekday labels to the new_features list\n",
        "new_features.extend(['weekday_'+str(i) for i in range(1, 5)])\n",
        "\n",
        "# Plot the correlations between the new features and the targets\n",
        "sns.heatmap(df[new_features + ['10d_close_future_pct']].corr(), annot=True)\n",
        "plt.yticks(rotation=0)  # ensure y-axis ticklabels are horizontal\n",
        "plt.xticks(rotation=90)  # ensure x-axis ticklabels are vertical\n",
        "plt.tight_layout()\n",
        "plt.show()"
      ],
      "execution_count": 25,
      "outputs": [
        {
          "output_type": "display_data",
          "data": {
            "image/png": "[encoded data removed]",
            "text/plain": [
              "<Figure size 432x288 with 2 Axes>"
            ]
          },
          "metadata": {
            "tags": []
          }
        }
      ]
    },
    {
      "cell_type": "code",
      "metadata": {
        "id": "WgmZtnpUEU67",
        "colab_type": "code",
        "colab": {
          "base_uri": "https://localhost:8080/",
          "height": 119
        },
        "outputId": "4628e014-fd84-411d-89d3-ed0c82ee0c45"
      },
      "source": [
        "new_features"
      ],
      "execution_count": 26,
      "outputs": [
        {
          "output_type": "execute_result",
          "data": {
            "text/plain": [
              "['Adj_Volume_1d_change',\n",
              " 'Adj_Volume_1d_change_SMA',\n",
              " 'weekday_1',\n",
              " 'weekday_2',\n",
              " 'weekday_3',\n",
              " 'weekday_4']"
            ]
          },
          "metadata": {
            "tags": []
          },
          "execution_count": 26
        }
      ]
    },
    {
      "cell_type": "markdown",
      "metadata": {
        "id": "TmnWL2F_36q_",
        "colab_type": "text"
      },
      "source": [
        "Even though the correlations are weak, they may improve our predictions via interactions with other features."
      ]
    },
    {
      "cell_type": "markdown",
      "metadata": {
        "id": "S-qeoGAT5Kqs",
        "colab_type": "text"
      },
      "source": [
        "# **Decision Tree**"
      ]
    },
    {
      "cell_type": "markdown",
      "metadata": {
        "id": "OfAzkk6s5UH1",
        "colab_type": "text"
      },
      "source": [
        "**Fit a decision tree**\n",
        "\n",
        "Random forests are a go-to model for predictions; they work well out of the box. But we'll first learn the building block of random forests -- decision trees.\n",
        "\n",
        "Decision trees split the data into groups based on the features. Decision trees start with a root node, and split the data down until we reach leaf nodes.\n",
        "\n",
        "We can use sklearn to fit a decision tree with DecisionTreeRegressor and .fit(features, targets).\n",
        "\n",
        "Without limiting the tree's depth (or height), it will keep splitting the data until each leaf has 1 sample in it, which is the epitome of overfitting. "
      ]
    },
    {
      "cell_type": "code",
      "metadata": {
        "id": "TRhGiJ-k3sDw",
        "colab_type": "code",
        "colab": {
          "base_uri": "https://localhost:8080/",
          "height": 51
        },
        "outputId": "a27ba0e4-e28b-484c-94e5-ac93c1e520c4"
      },
      "source": [
        "from sklearn.tree import DecisionTreeRegressor\n",
        "\n",
        "# Create a decision tree regression model with default arguments\n",
        "decision_tree = DecisionTreeRegressor()\n",
        "\n",
        "# Fit the model to the training features and targets\n",
        "decision_tree.fit(train_features, train_targets)\n",
        "\n",
        "# Check the score on train and test\n",
        "print(decision_tree.score(train_features, train_targets))\n",
        "print(decision_tree.score(test_features, test_targets))"
      ],
      "execution_count": 27,
      "outputs": [
        {
          "output_type": "stream",
          "text": [
            "0.9999982399203161\n",
            "-1.0884966410047596\n"
          ],
          "name": "stdout"
        }
      ]
    },
    {
      "cell_type": "markdown",
      "metadata": {
        "id": "bu0xktMX5zdn",
        "colab_type": "text"
      },
      "source": [
        "A perfect fit! ...on the training data."
      ]
    },
    {
      "cell_type": "markdown",
      "metadata": {
        "id": "-XE0NX5I5x7-",
        "colab_type": "text"
      },
      "source": [
        "**Try different max depths**\n",
        "\n",
        "We always want to optimize our machine learning models to make the best predictions possible. We can do this by tuning hyperparameters, which are settings for our models. We will see in more detail how these are useful in future chapters, but for now think of them as knobs we can turn to tune our predictions to be as good as possible.\n",
        "\n",
        "For regular decision trees, probably the most important hyperparameter is max_depth. This limits the number of splits in a decision tree. Let's find the best value of max_depth based on the R2 score of our model on the test set, which we can obtain using the score() method of our decision tree models."
      ]
    },
    {
      "cell_type": "code",
      "metadata": {
        "id": "ucnbv5Qc594b",
        "colab_type": "code",
        "colab": {
          "base_uri": "https://localhost:8080/",
          "height": 221
        },
        "outputId": "21195198-1aec-4e75-eb5b-d1991a8eb4c2"
      },
      "source": [
        "# Loop through a few different max depths and check the performance\n",
        "for d in [3,5,10]:\n",
        "    # Create the tree and fit it\n",
        "    decision_tree = DecisionTreeRegressor(max_depth=d)\n",
        "    decision_tree.fit(train_features, train_targets)\n",
        "\n",
        "    # Print out the scores on train and test\n",
        "    print('max_depth=', str(d))\n",
        "    print(decision_tree.score(train_features, train_targets))\n",
        "    print(decision_tree.score(test_features, test_targets), '\\n')"
      ],
      "execution_count": 28,
      "outputs": [
        {
          "output_type": "stream",
          "text": [
            "max_depth= 3\n",
            "0.0863314901211415\n",
            "-0.22096307894083633 \n",
            "\n",
            "max_depth= 5\n",
            "0.2864029417990164\n",
            "-0.5989230959562049 \n",
            "\n",
            "max_depth= 10\n",
            "0.8177790399439981\n",
            "-0.9419170285887495 \n",
            "\n"
          ],
          "name": "stdout"
        }
      ]
    },
    {
      "cell_type": "markdown",
      "metadata": {
        "id": "a85rZdUd6eU9",
        "colab_type": "text"
      },
      "source": [
        "Remember what value of max_depth got the highest test score."
      ]
    },
    {
      "cell_type": "markdown",
      "metadata": {
        "id": "PRrq3EtJ6mu-",
        "colab_type": "text"
      },
      "source": [
        "**Check our results**\n",
        "\n",
        "Once we have an optimized model, we want to check how it is performing in more detail. We already saw the R2 score, but it can be helpful to see the predictions plotted vs actual values. We can use the .predict() method of our decision tree model to get predictions on the train and test sets.\n",
        "\n",
        "Ideally, we want to see diagonal lines from the lower left to the upper right. However, due to the simplicity of decisions trees, our model is not going to do well on the test set. But it will do well on the train set."
      ]
    },
    {
      "cell_type": "code",
      "metadata": {
        "id": "adiZhTB56bN_",
        "colab_type": "code",
        "colab": {
          "base_uri": "https://localhost:8080/",
          "height": 269
        },
        "outputId": "aeaf81e3-8b7c-40a9-b3c5-1f1b0f8d2caf"
      },
      "source": [
        "# Use the best max_depth of 3 from last exercise to fit a decision tree\n",
        "decision_tree = DecisionTreeRegressor(max_depth=3)\n",
        "decision_tree.fit(train_features, train_targets)\n",
        "\n",
        "# Predict values for train and test\n",
        "train_predictions = decision_tree.predict(train_features)\n",
        "test_predictions = decision_tree.predict(test_features)\n",
        "\n",
        "# Scatter the predictions vs actual values\n",
        "plt.scatter(train_predictions, train_targets, label='train')\n",
        "plt.scatter(test_predictions, test_targets, label='test')\n",
        "plt.legend()\n",
        "plt.show()"
      ],
      "execution_count": 29,
      "outputs": [
        {
          "output_type": "display_data",
          "data": {
            "image/png": "[encoded data removed]",
            "text/plain": [
              "<Figure size 432x288 with 1 Axes>"
            ]
          },
          "metadata": {
            "tags": []
          }
        }
      ]
    },
    {
      "cell_type": "markdown",
      "metadata": {
        "id": "kfssCaSu7dcW",
        "colab_type": "text"
      },
      "source": [
        "The predictions group into lines because our depth is limited."
      ]
    },
    {
      "cell_type": "markdown",
      "metadata": {
        "id": "vsQGiNSs8xnS",
        "colab_type": "text"
      },
      "source": [
        "# **Random Forest**"
      ]
    },
    {
      "cell_type": "markdown",
      "metadata": {
        "id": "FRsb6jD59EGu",
        "colab_type": "text"
      },
      "source": [
        "**Fit a random forest**\n",
        "\n",
        "Data scientists often use random forest models. They perform well out of the box, and have lots of settings to optimize performance. Random forests can be used for classification or regression; we'll use it for regression to predict the future price change of LNG.\n",
        "\n",
        "We'll create and fit the random forest model similarly to the decision trees using the .fit(features, targets) method. With sklearn's RandomForestRegressor, there's a built-in .score() method we can use to evaluate performance. This takes arguments (features, targets), and returns the R2 score (the coefficient of determination)."
      ]
    },
    {
      "cell_type": "code",
      "metadata": {
        "id": "LXEYjx-L7aTI",
        "colab_type": "code",
        "colab": {
          "base_uri": "https://localhost:8080/",
          "height": 51
        },
        "outputId": "dc6defb6-bb32-43ad-81dc-81500d6eb716"
      },
      "source": [
        "from sklearn.ensemble import RandomForestRegressor\n",
        "\n",
        "# Create the random forest model and fit to the training data\n",
        "rfr = RandomForestRegressor(n_estimators=200)\n",
        "rfr.fit(train_features, train_targets)\n",
        "\n",
        "# Look at the R^2 scores on train and test\n",
        "print(rfr.score(train_features, train_targets))\n",
        "print(rfr.score(test_features, test_targets))"
      ],
      "execution_count": 30,
      "outputs": [
        {
          "output_type": "stream",
          "text": [
            "0.9357211487627325\n",
            "-0.505554418039525\n"
          ],
          "name": "stdout"
        }
      ]
    },
    {
      "cell_type": "markdown",
      "metadata": {
        "id": "v1-2euRC9el2",
        "colab_type": "text"
      },
      "source": [
        "Now let's tune the hyperparameters for better performance."
      ]
    },
    {
      "cell_type": "markdown",
      "metadata": {
        "id": "b1J6_7Ge9iza",
        "colab_type": "text"
      },
      "source": [
        "**Tune random forest hyperparameters**\n",
        "\n",
        "As with all models, we want to optimize performance by tuning hyperparameters. We have many hyperparameters for random forests, but the most important is often the number of features we sample at each split, or max_features in RandomForestRegressor from the sklearn library. For models like random forests that have randomness built-in, we also want to set the random_state. This is set for our results to be reproducible.\n",
        "\n",
        "Usually, we can use sklearn's GridSearchCV() method to search hyperparameters, but with a financial time series, we don't want to do cross-validation due to data mixing. We want to fit our models on the oldest data and evaluate on the newest data. So we'll use sklearn's ParameterGrid to create combinations of hyperparameters to search."
      ]
    },
    {
      "cell_type": "code",
      "metadata": {
        "id": "K08wKsMw9Zyh",
        "colab_type": "code",
        "colab": {
          "base_uri": "https://localhost:8080/",
          "height": 34
        },
        "outputId": "349d0e25-7184-46ad-e95d-219fadf649d8"
      },
      "source": [
        "from sklearn.model_selection import ParameterGrid\n",
        "\n",
        "# Create a dictionary of hyperparameters to search\n",
        "grid = {'n_estimators': [200], 'max_depth': [3], 'max_features': [4,8], 'random_state': [42]}\n",
        "test_scores = []\n",
        "\n",
        "# Loop through the parameter grid, set the hyperparameters, and save the scores\n",
        "for g in ParameterGrid(grid):\n",
        "    rfr.set_params(**g)  # ** is \"unpacking\" the dictionary\n",
        "    rfr.fit(train_features, train_targets)\n",
        "    test_scores.append(rfr.score(test_features, test_targets))\n",
        "\n",
        "# Find best hyperparameters from the test score and print\n",
        "best_idx = np.argmax(test_scores)\n",
        "print(test_scores[best_idx], ParameterGrid(grid)[best_idx])"
      ],
      "execution_count": 31,
      "outputs": [
        {
          "output_type": "stream",
          "text": [
            "-0.16329474370551078 {'random_state': 42, 'n_estimators': 200, 'max_features': 4, 'max_depth': 3}\n"
          ],
          "name": "stdout"
        }
      ]
    },
    {
      "cell_type": "markdown",
      "metadata": {
        "id": "qHv5sGEX-gr4",
        "colab_type": "text"
      },
      "source": [
        "Our test score (R^2) isn't great."
      ]
    },
    {
      "cell_type": "code",
      "metadata": {
        "id": "MLvz4h8u-Jng",
        "colab_type": "code",
        "colab": {
          "base_uri": "https://localhost:8080/",
          "height": 51
        },
        "outputId": "4516c28c-add1-4582-ef82-6b8ef63200bb"
      },
      "source": [
        "from pprint import pprint\n",
        "pprint(list(ParameterGrid(grid)))"
      ],
      "execution_count": 32,
      "outputs": [
        {
          "output_type": "stream",
          "text": [
            "[{'max_depth': 3, 'max_features': 4, 'n_estimators': 200, 'random_state': 42},\n",
            " {'max_depth': 3, 'max_features': 8, 'n_estimators': 200, 'random_state': 42}]\n"
          ],
          "name": "stdout"
        }
      ]
    },
    {
      "cell_type": "code",
      "metadata": {
        "id": "ZigXgX9L-1RT",
        "colab_type": "code",
        "colab": {
          "base_uri": "https://localhost:8080/",
          "height": 269
        },
        "outputId": "e59ae3f6-721f-4213-8889-b388abc8df63"
      },
      "source": [
        "# Use the best hyperparameters from before to fit a random forest model\n",
        "rfr = RandomForestRegressor(n_estimators=200, max_depth=3, max_features=4, random_state=42)\n",
        "rfr.fit(train_features, train_targets)\n",
        "\n",
        "# Make predictions with our model\n",
        "train_predictions = rfr.predict(train_features)\n",
        "test_predictions = rfr.predict(test_features)\n",
        "\n",
        "# Create a scatter plot with train and test actual vs predictions\n",
        "plt.scatter(train_targets, train_predictions, label='train')\n",
        "plt.scatter(test_targets, test_predictions, label='test')\n",
        "plt.legend()\n",
        "plt.show()"
      ],
      "execution_count": 33,
      "outputs": [
        {
          "output_type": "display_data",
          "data": {
            "image/png": "[encoded data removed]",
            "text/plain": [
              "<Figure size 432x288 with 1 Axes>"
            ]
          },
          "metadata": {
            "tags": []
          }
        }
      ]
    },
    {
      "cell_type": "markdown",
      "metadata": {
        "id": "SNOLGLXvAjd-",
        "colab_type": "text"
      },
      "source": [
        "We can see our train predictions are good, but test predictions (generalization) are not great."
      ]
    },
    {
      "cell_type": "markdown",
      "metadata": {
        "id": "fFxHc6m9CUzb",
        "colab_type": "text"
      },
      "source": [
        " **Random forest feature importances**\n",
        " \n",
        "One useful aspect of tree-based methods is the ability to extract feature importances. This is a quantitative way to measure how much each feature contributes to our predictions. It can help us focus on our best features, possibly enhancing or tuning them, and can also help us get rid of useless features that may be cluttering up our model.\n",
        "\n",
        "Tree models in sklearn have a .feature_importances_ property that's accessible after fitting the model. This stores the feature importance scores. We need to get the indices of the sorted feature importances using np.argsort() in order to make a nice-looking bar plot of feature importances (sorted from greatest to least importance)."
      ]
    },
    {
      "cell_type": "code",
      "metadata": {
        "id": "MDNL8SKbAf6a",
        "colab_type": "code",
        "colab": {
          "base_uri": "https://localhost:8080/",
          "height": 377
        },
        "outputId": "68c4ef5f-42d0-4695-e69c-b4a9032cc382"
      },
      "source": [
        "# Get feature importances from our random forest model\n",
        "importances = rfr.feature_importances_\n",
        "\n",
        "# Get the index of importances from greatest importance to least\n",
        "sorted_index = np.argsort(importances)[::-1]\n",
        "x = range(len(importances))\n",
        "\n",
        "# Create tick labels \n",
        "labels = np.array(feature_names)[sorted_index]\n",
        "plt.bar(x, importances[sorted_index], tick_label=labels)\n",
        "\n",
        "# Rotate tick labels to vertical\n",
        "plt.xticks(rotation=90)\n",
        "plt.show()"
      ],
      "execution_count": 34,
      "outputs": [
        {
          "output_type": "display_data",
          "data": {
            "image/png": "[encoded data removed]",
            "text/plain": [
              "<Figure size 432x288 with 1 Axes>"
            ]
          },
          "metadata": {
            "tags": []
          }
        }
      ]
    },
    {
      "cell_type": "markdown",
      "metadata": {
        "id": "52pbB61kEuSk",
        "colab_type": "text"
      },
      "source": [
        "**A gradient boosting model**\n",
        "\n",
        "Now we'll fit a gradient boosting (GB) model. It's been said a linear model is like a Toyota Camry, and GB is like a Black Hawk helicopter. GB has potential to outperform random forests, but doesn't always do so. This is called the no free lunch theorem, meaning we should always try lots of different models for each problem.\n",
        "\n",
        "GB is similar to random forest models, but the difference is that trees are built successively. With each iteration, the next tree fits the residual errors from the previous tree in order to improve the fit.\n",
        "\n",
        "For now we won't search our hyperparameters -- they've been searched for you."
      ]
    },
    {
      "cell_type": "code",
      "metadata": {
        "id": "mka84pBdDtKR",
        "colab_type": "code",
        "colab": {
          "base_uri": "https://localhost:8080/",
          "height": 51
        },
        "outputId": "5d70e0e8-1642-4ccc-9986-3e5e44444312"
      },
      "source": [
        "from sklearn.ensemble import GradientBoostingRegressor\n",
        "\n",
        "# Create GB model -- hyperparameters have already been searched for you\n",
        "gbr = GradientBoostingRegressor(max_features=4,\n",
        "                                learning_rate=0.01,\n",
        "                                n_estimators=200,\n",
        "                                subsample=0.6,\n",
        "                                random_state=42)\n",
        "gbr.fit(train_features, train_targets)\n",
        "\n",
        "print(gbr.score(train_features, train_targets))\n",
        "print(gbr.score(test_features, test_targets))"
      ],
      "execution_count": 35,
      "outputs": [
        {
          "output_type": "stream",
          "text": [
            "0.23941415191227963\n",
            "-0.15731320391624504\n"
          ],
          "name": "stdout"
        }
      ]
    },
    {
      "cell_type": "markdown",
      "metadata": {
        "id": "Nkap5x-gF17Z",
        "colab_type": "text"
      },
      "source": [
        " In this case the gradient boosting model isn't that much better than a random forest, but you know what they say -- no free lunch!"
      ]
    },
    {
      "cell_type": "markdown",
      "metadata": {
        "id": "tmqNt4-jF6vY",
        "colab_type": "text"
      },
      "source": [
        "**Gradient boosting feature importances**\n",
        "\n",
        "As with random forests, we can extract feature importances from gradient boosting models to understand which features are the best predictors. Sometimes it's nice to try different tree-based models and look at the feature importances from all of them. This can help average out any peculiarities that may arise from one particular model.\n",
        "\n",
        "The feature importances are stored as a numpy array in the .feature_importances_ property of the gradient boosting model. We'll need to get the sorted indices of the feature importances, using np.argsort(), in order to make a nice plot. We want the features from largest to smallest, so we will use Python's indexing to reverse the sorted importances like feat_importances[::-1]."
      ]
    },
    {
      "cell_type": "code",
      "metadata": {
        "id": "noCD5IGgFKN1",
        "colab_type": "code",
        "colab": {}
      },
      "source": [
        "# Extract feature importances from the fitted gradient boosting model\n",
        "feature_importances = gbr.feature_importances_\n",
        "\n",
        "# Get the indices of the largest to smallest feature importances\n",
        "sorted_index = np.argsort(feature_importances)[::-7]\n",
        "x = range(features.shape[1])\n",
        "\n",
        "# Create tick labels \n",
        "labels = np.array(feature_names)[sorted_index]\n",
        "\n",
        "plt.bar(x, feature_importances[sorted_index], tick_label=labels)\n",
        "\n",
        "# Set the tick lables to be the feature names, according to the sorted feature_idx\n",
        "plt.xticks(rotation=90)\n",
        "plt.show()"
      ],
      "execution_count": 0,
      "outputs": []
    },
    {
      "cell_type": "code",
      "metadata": {
        "id": "LllahzIeHzLA",
        "colab_type": "code",
        "colab": {}
      },
      "source": [
        "feature_names[:-4]"
      ],
      "execution_count": 0,
      "outputs": []
    },
    {
      "cell_type": "markdown",
      "metadata": {
        "id": "6vpKGF0EDpV4",
        "colab_type": "text"
      },
      "source": [
        "\n",
        "\n",
        "---\n",
        "\n"
      ]
    },
    {
      "cell_type": "markdown",
      "metadata": {
        "id": "nPGDG280O5gV",
        "colab_type": "text"
      },
      "source": [
        "# 3. Neural networks and KNN\n",
        "\n",
        "We will see how to normalize and scale data for use in KNN and neural network methods. Then we will learn how to use KNN and neural network regression to predict the future values of a stock's price (or any other regression problem)."
      ]
    },
    {
      "cell_type": "markdown",
      "metadata": {
        "id": "VnbdlbdMOwKP",
        "colab_type": "text"
      },
      "source": [
        "**Standardizing data**\n",
        "\n",
        "Some models, like K-nearest neighbors (KNN) & neural networks, work better with scaled data -- so we'll standardize our data.\n",
        "\n",
        "We'll also remove unimportant variables (day of week), according to feature importances, by indexing the features DataFrames with .iloc[]. KNN uses distances to find similar points for predictions, so big features outweigh small ones. Scaling data fixes that.\n",
        "\n",
        "sklearn's scale() will standardize data, which sets the mean to 0 and standard deviation to 1. Ideally we'd want to use StandardScaler with fit_transform() on the training data, and fit() on the test data, but we are limited to 15 lines of code here.\n",
        "\n",
        "Once we've scaled the data, we'll check that it worked by plotting histograms of the data."
      ]
    },
    {
      "cell_type": "code",
      "metadata": {
        "id": "hKhV2rudJXwG",
        "colab_type": "code",
        "colab": {
          "base_uri": "https://localhost:8080/",
          "height": 269
        },
        "outputId": "87e61b4f-297a-4846-f162-f5af5257f34b"
      },
      "source": [
        "from sklearn.preprocessing import scale\n",
        "\n",
        "# Remove unimportant features (weekdays)\n",
        "train_features = train_features.iloc[:, :-4]\n",
        "test_features = test_features.iloc[:, :-4]\n",
        "\n",
        "# Standardize the train and test features\n",
        "scaled_train_features = scale(train_features)\n",
        "scaled_test_features = scale(test_features)\n",
        "\n",
        "# Plot histograms of the 14-day SMA RSI before and after scaling\n",
        "f, ax = plt.subplots(nrows=2, ncols=1)\n",
        "train_features.iloc[:, 2].hist(ax=ax[0])\n",
        "ax[1].hist(scaled_train_features[:, 2])\n",
        "plt.show()"
      ],
      "execution_count": 37,
      "outputs": [
        {
          "output_type": "display_data",
          "data": {
            "image/png": "[encoded data removed]",
            "text/plain": [
              "<Figure size 432x288 with 2 Axes>"
            ]
          },
          "metadata": {
            "tags": []
          }
        }
      ]
    },
    {
      "cell_type": "markdown",
      "metadata": {
        "id": "Npr4cOOhPMxC",
        "colab_type": "text"
      },
      "source": [
        "**Optimize n_neighbors**\n",
        "\n",
        "Now that we have scaled data, we can try using a KNN model. To maximize performance, we should tune our model's hyperparameters. For the k-nearest neighbors algorithm, we only have one hyperparameter: n, the number of neighbors. We set this hyperparameter when we create the model with KNeighborsRegressor. The argument for the number of neighbors is n_neighbors.\n",
        "\n",
        "We want to try a range of values that passes through the setting with the best performance. Usually we will start with 2 neighbors, and increase until our scoring metric starts to decrease. We'll use the R2 value from the .score() method on the test set (scaled_test_features and test_targets) to optimize n here. We'll use the test set scores to determine the best n."
      ]
    },
    {
      "cell_type": "code",
      "metadata": {
        "id": "sdul2i1NPBJs",
        "colab_type": "code",
        "colab": {
          "base_uri": "https://localhost:8080/",
          "height": 952
        },
        "outputId": "37d8558e-fd1d-4eee-fdda-b7f5834a7672"
      },
      "source": [
        "from sklearn.neighbors import KNeighborsRegressor\n",
        "\n",
        "for n in range(2,13):\n",
        "    # Create and fit the KNN model\n",
        "    knn = KNeighborsRegressor(n_neighbors=n)\n",
        "    \n",
        "    # Fit the model to the training data\n",
        "    knn.fit(scaled_train_features, train_targets)\n",
        "    \n",
        "    # Print number of neighbors and the score to find the best value of n\n",
        "    print(\"n_neighbors =\", n)\n",
        "    print('train, test scores')\n",
        "    print(knn.score(scaled_train_features, train_targets))\n",
        "    print(knn.score(scaled_test_features, test_targets))\n",
        "    print()  # prints a blank line"
      ],
      "execution_count": 38,
      "outputs": [
        {
          "output_type": "stream",
          "text": [
            "n_neighbors = 2\n",
            "train, test scores\n",
            "0.683873867087093\n",
            "-0.316511024415836\n",
            "\n",
            "n_neighbors = 3\n",
            "train, test scores\n",
            "0.5269179339474739\n",
            "-0.2284833282493588\n",
            "\n",
            "n_neighbors = 4\n",
            "train, test scores\n",
            "0.4324059692615415\n",
            "-0.19178369746896617\n",
            "\n",
            "n_neighbors = 5\n",
            "train, test scores\n",
            "0.3693877283655388\n",
            "-0.17810781775933626\n",
            "\n",
            "n_neighbors = 6\n",
            "train, test scores\n",
            "0.33515692652591134\n",
            "-0.11107975975892703\n",
            "\n",
            "n_neighbors = 7\n",
            "train, test scores\n",
            "0.3075789808606424\n",
            "-0.09147212776013203\n",
            "\n",
            "n_neighbors = 8\n",
            "train, test scores\n",
            "0.2719421586470634\n",
            "-0.12337318411976382\n",
            "\n",
            "n_neighbors = 9\n",
            "train, test scores\n",
            "0.24250440705292953\n",
            "-0.14241151236648641\n",
            "\n",
            "n_neighbors = 10\n",
            "train, test scores\n",
            "0.232684427058099\n",
            "-0.13728510902156144\n",
            "\n",
            "n_neighbors = 11\n",
            "train, test scores\n",
            "0.22797027052258478\n",
            "-0.11489328907440699\n",
            "\n",
            "n_neighbors = 12\n",
            "train, test scores\n",
            "0.21331491868877628\n",
            "-0.12516969052957405\n",
            "\n"
          ],
          "name": "stdout"
        }
      ]
    },
    {
      "cell_type": "code",
      "metadata": {
        "id": "vTA4JbNVRfWD",
        "colab_type": "code",
        "colab": {
          "base_uri": "https://localhost:8080/",
          "height": 269
        },
        "outputId": "cd5c9eda-934f-48f0-a941-a0700af1354e"
      },
      "source": [
        "# Create the model with the best-performing n_neighbors of 5\n",
        "knn = KNeighborsRegressor(n_neighbors=5)\n",
        "\n",
        "# Fit the model\n",
        "knn.fit(scaled_train_features, train_targets)\n",
        "\n",
        "# Get predictions for train and test sets\n",
        "train_predictions = knn.predict(scaled_train_features)\n",
        "test_predictions = knn.predict(scaled_test_features)\n",
        "\n",
        "# Plot the actual vs predicted values\n",
        "plt.scatter(train_predictions, train_targets, label='train')\n",
        "plt.scatter(test_predictions, test_targets, label='test')\n",
        "plt.legend()\n",
        "plt.show()"
      ],
      "execution_count": 39,
      "outputs": [
        {
          "output_type": "display_data",
          "data": {
            "image/png": "[encoded data removed]",
            "text/plain": [
              "<Figure size 432x288 with 1 Axes>"
            ]
          },
          "metadata": {
            "tags": []
          }
        }
      ]
    },
    {
      "cell_type": "markdown",
      "metadata": {
        "id": "QNzY7Hh0SSE5",
        "colab_type": "text"
      },
      "source": [
        "# **Neural Networks**\n"
      ]
    },
    {
      "cell_type": "markdown",
      "metadata": {
        "id": "YtMnL8lOUOOs",
        "colab_type": "text"
      },
      "source": [
        "**Build and fit a simple neural net**\n",
        "\n",
        "The next model we will learn how to use is a neural network. Neural nets can capture complex interactions between variables, but are difficult to set up and understand. Recently, they have been beating human experts in many fields, including image recognition and gaming (check out AlphaGo) -- so they have great potential to perform well.\n",
        "\n",
        "To build our nets we'll use the keras library. This is a high-level API that allows us to quickly make neural nets, yet still exercise a lot of control over the design. The first thing we'll do is create almost the simplest net possible -- a 3-layer net that takes our inputs and predicts a single value. Much like the sklearn models, keras models have a .fit() method that takes arguments of (features, targets)."
      ]
    },
    {
      "cell_type": "code",
      "metadata": {
        "id": "e7O7HnHCSIak",
        "colab_type": "code",
        "colab": {
          "base_uri": "https://localhost:8080/",
          "height": 1000
        },
        "outputId": "a544fd04-31a1-4293-9136-52cb1b66a818"
      },
      "source": [
        "from keras.models import Sequential\n",
        "from keras.layers import Dense\n",
        "\n",
        "# Create the model\n",
        "model_1 = Sequential()\n",
        "model_1.add(Dense(100, input_dim=scaled_train_features.shape[1], activation='relu'))\n",
        "model_1.add(Dense(20, activation='relu'))\n",
        "model_1.add(Dense(1, activation='linear'))\n",
        "\n",
        "# Fit the model\n",
        "model_1.compile(optimizer='adam', loss='mse')\n",
        "history = model_1.fit(scaled_train_features, train_targets, epochs=25)"
      ],
      "execution_count": 40,
      "outputs": [
        {
          "output_type": "stream",
          "text": [
            "Using TensorFlow backend.\n"
          ],
          "name": "stderr"
        },
        {
          "output_type": "stream",
          "text": [
            "WARNING:tensorflow:From /usr/local/lib/python3.6/dist-packages/keras/backend/tensorflow_backend.py:66: The name tf.get_default_graph is deprecated. Please use tf.compat.v1.get_default_graph instead.\n",
            "\n",
            "WARNING:tensorflow:From /usr/local/lib/python3.6/dist-packages/keras/backend/tensorflow_backend.py:541: The name tf.placeholder is deprecated. Please use tf.compat.v1.placeholder instead.\n",
            "\n",
            "WARNING:tensorflow:From /usr/local/lib/python3.6/dist-packages/keras/backend/tensorflow_backend.py:4432: The name tf.random_uniform is deprecated. Please use tf.random.uniform instead.\n",
            "\n",
            "WARNING:tensorflow:From /usr/local/lib/python3.6/dist-packages/keras/optimizers.py:793: The name tf.train.Optimizer is deprecated. Please use tf.compat.v1.train.Optimizer instead.\n",
            "\n",
            "WARNING:tensorflow:From /usr/local/lib/python3.6/dist-packages/keras/backend/tensorflow_backend.py:1033: The name tf.assign_add is deprecated. Please use tf.compat.v1.assign_add instead.\n",
            "\n",
            "WARNING:tensorflow:From /usr/local/lib/python3.6/dist-packages/keras/backend/tensorflow_backend.py:1020: The name tf.assign is deprecated. Please use tf.compat.v1.assign instead.\n",
            "\n",
            "Epoch 1/25\n",
            "890/890 [==============================] - 1s 723us/step - loss: 0.0100\n",
            "Epoch 2/25\n",
            "890/890 [==============================] - 0s 35us/step - loss: 0.0034\n",
            "Epoch 3/25\n",
            "890/890 [==============================] - 0s 42us/step - loss: 0.0027\n",
            "Epoch 4/25\n",
            "890/890 [==============================] - 0s 40us/step - loss: 0.0026\n",
            "Epoch 5/25\n",
            "890/890 [==============================] - 0s 41us/step - loss: 0.0025\n",
            "Epoch 6/25\n",
            "890/890 [==============================] - 0s 38us/step - loss: 0.0024\n",
            "Epoch 7/25\n",
            "890/890 [==============================] - 0s 37us/step - loss: 0.0023\n",
            "Epoch 8/25\n",
            "890/890 [==============================] - 0s 40us/step - loss: 0.0022\n",
            "Epoch 9/25\n",
            "890/890 [==============================] - 0s 37us/step - loss: 0.0022\n",
            "Epoch 10/25\n",
            "890/890 [==============================] - 0s 35us/step - loss: 0.0020\n",
            "Epoch 11/25\n",
            "890/890 [==============================] - 0s 36us/step - loss: 0.0021\n",
            "Epoch 12/25\n",
            "890/890 [==============================] - 0s 42us/step - loss: 0.0021\n",
            "Epoch 13/25\n",
            "890/890 [==============================] - 0s 41us/step - loss: 0.0021\n",
            "Epoch 14/25\n",
            "890/890 [==============================] - 0s 50us/step - loss: 0.0020\n",
            "Epoch 15/25\n",
            "890/890 [==============================] - 0s 48us/step - loss: 0.0020\n",
            "Epoch 16/25\n",
            "890/890 [==============================] - 0s 44us/step - loss: 0.0020\n",
            "Epoch 17/25\n",
            "890/890 [==============================] - 0s 40us/step - loss: 0.0020\n",
            "Epoch 18/25\n",
            "890/890 [==============================] - 0s 35us/step - loss: 0.0020\n",
            "Epoch 19/25\n",
            "890/890 [==============================] - 0s 35us/step - loss: 0.0020\n",
            "Epoch 20/25\n",
            "890/890 [==============================] - 0s 34us/step - loss: 0.0019\n",
            "Epoch 21/25\n",
            "890/890 [==============================] - 0s 37us/step - loss: 0.0019\n",
            "Epoch 22/25\n",
            "890/890 [==============================] - 0s 35us/step - loss: 0.0019\n",
            "Epoch 23/25\n",
            "890/890 [==============================] - 0s 37us/step - loss: 0.0018\n",
            "Epoch 24/25\n",
            "890/890 [==============================] - 0s 36us/step - loss: 0.0019\n",
            "Epoch 25/25\n",
            "890/890 [==============================] - 0s 38us/step - loss: 0.0019\n"
          ],
          "name": "stdout"
        }
      ]
    },
    {
      "cell_type": "code",
      "metadata": {
        "id": "O9tkKzjWTgRf",
        "colab_type": "code",
        "colab": {
          "base_uri": "https://localhost:8080/",
          "height": 281
        },
        "outputId": "6ed610aa-c03c-4fd1-e0c0-9b318322045a"
      },
      "source": [
        "# Plot the losses from the fit\n",
        "plt.plot(history.history['loss'])\n",
        "\n",
        "# Use the last loss as the title\n",
        "plt.title('loss:' + str(round(history.history['loss'][-1], 6)))\n",
        "plt.show()"
      ],
      "execution_count": 41,
      "outputs": [
        {
          "output_type": "display_data",
          "data": {
            "image/png": "[encoded data removed]",
            "text/plain": [
              "<Figure size 432x288 with 1 Axes>"
            ]
          },
          "metadata": {
            "tags": []
          }
        }
      ]
    },
    {
      "cell_type": "markdown",
      "metadata": {
        "id": "zjqb79QGU1-t",
        "colab_type": "text"
      },
      "source": [
        "**Measure performance**\n",
        "\n",
        "Now that we've fit our neural net, let's check performance to see how well our model is predicting new values. There's not a built-in .score() method like with sklearn models, so we'll use the r2_score() function from sklearn.metrics. This calculates the R2 score given arguments (y_true, y_predicted). We'll also plot our predictions versus actual values again. This will yield some interesting results soon (once we implement our own custom loss function)."
      ]
    },
    {
      "cell_type": "code",
      "metadata": {
        "id": "gwz8grI2UwA5",
        "colab_type": "code",
        "colab": {
          "base_uri": "https://localhost:8080/",
          "height": 303
        },
        "outputId": "15afafdc-7cfc-4a77-b8f3-33123bd7a952"
      },
      "source": [
        "from sklearn.metrics import r2_score\n",
        "\n",
        "# Calculate R^2 score\n",
        "train_preds = model_1.predict(scaled_train_features)\n",
        "test_preds = model_1.predict(scaled_test_features)\n",
        "print(r2_score(train_targets, train_preds))\n",
        "print(r2_score(test_targets, test_preds))\n",
        "\n",
        "# Plot predictions vs actual\n",
        "plt.scatter(train_preds, train_targets, label='train')\n",
        "plt.scatter(test_preds, test_targets, label='test')\n",
        "plt.legend()\n",
        "plt.show()"
      ],
      "execution_count": 42,
      "outputs": [
        {
          "output_type": "stream",
          "text": [
            "0.17428713029288667\n",
            "-0.19252164462840393\n"
          ],
          "name": "stdout"
        },
        {
          "output_type": "display_data",
          "data": {
            "image/png": "[encoded data removed]",
            "text/plain": [
              "<Figure size 432x288 with 1 Axes>"
            ]
          },
          "metadata": {
            "tags": []
          }
        }
      ]
    },
    {
      "cell_type": "markdown",
      "metadata": {
        "id": "bwuAtxQFXh09",
        "colab_type": "text"
      },
      "source": [
        "**Custom loss function**\n",
        "\n",
        "Up to now, we've used the mean squared error as a loss function. This works fine, but with stock price prediction it can be useful to implement a custom loss function. A custom loss function can help improve our model's performance in specific ways we choose. For example, we're going to create a custom loss function with a large penalty for predicting price movements in the wrong direction. This will help our net learn to at least predict price movements in the correct direction.\n",
        "\n",
        "To do this, we need to write a function that takes arguments of (y_true, y_predicted). We'll also use functionality from the backend keras (using tensorflow) to find cases where the true value and prediction don't match signs, then penalize those cases."
      ]
    },
    {
      "cell_type": "code",
      "metadata": {
        "id": "ZllWHyRdVk-v",
        "colab_type": "code",
        "colab": {
          "base_uri": "https://localhost:8080/",
          "height": 34
        },
        "outputId": "21feb851-c3ee-4b75-ac4f-c897a1e4b4cf"
      },
      "source": [
        "import keras.losses\n",
        "import tensorflow as tf\n",
        "\n",
        "# Create loss function\n",
        "def sign_penalty(y_true, y_pred):\n",
        "    penalty = 100.\n",
        "    loss = tf.where(tf.less(y_true * y_pred, 0), \\\n",
        "                     penalty * tf.square(y_true - y_pred), \\\n",
        "                     tf.square(y_true - y_pred))\n",
        "\n",
        "    return tf.reduce_mean(loss, axis=-1)\n",
        "\n",
        "keras.losses.sign_penalty = sign_penalty  # enable use of loss with keras\n",
        "print(keras.losses.sign_penalty)"
      ],
      "execution_count": 43,
      "outputs": [
        {
          "output_type": "stream",
          "text": [
            "<function sign_penalty at 0x7f0c78cd5d08>\n"
          ],
          "name": "stdout"
        }
      ]
    },
    {
      "cell_type": "code",
      "metadata": {
        "id": "gBlMjbbQYJgj",
        "colab_type": "code",
        "colab": {
          "base_uri": "https://localhost:8080/",
          "height": 1000
        },
        "outputId": "b09dfe54-a4f0-47cd-e56c-a59c7640abca"
      },
      "source": [
        "# Create the model\n",
        "model_2 = Sequential()\n",
        "model_2.add(Dense(100, input_dim=scaled_train_features.shape[1], activation='relu'))\n",
        "model_2.add(Dense(20, activation='relu'))\n",
        "model_2.add(Dense(1, activation='linear'))\n",
        "\n",
        "# Fit the model with our custom 'sign_penalty' loss function\n",
        "model_2.compile(optimizer='adam', loss=sign_penalty)\n",
        "history = model_2.fit(scaled_train_features, train_targets, epochs=25)\n",
        "plt.plot(history.history['loss'])\n",
        "plt.title('loss:' + str(round(history.history['loss'][-1], 6)))\n",
        "plt.show()"
      ],
      "execution_count": 44,
      "outputs": [
        {
          "output_type": "stream",
          "text": [
            "WARNING:tensorflow:From <ipython-input-43-ffb28acc90d3>:7: add_dispatch_support.<locals>.wrapper (from tensorflow.python.ops.array_ops) is deprecated and will be removed in a future version.\n",
            "Instructions for updating:\n",
            "Use tf.where in 2.0, which has the same broadcast rule as np.where\n",
            "Epoch 1/25\n",
            "890/890 [==============================] - 0s 257us/step - loss: 1.6985\n",
            "Epoch 2/25\n",
            "890/890 [==============================] - 0s 37us/step - loss: 0.2936\n",
            "Epoch 3/25\n",
            "890/890 [==============================] - 0s 36us/step - loss: 0.1981\n",
            "Epoch 4/25\n",
            "890/890 [==============================] - 0s 40us/step - loss: 0.1597\n",
            "Epoch 5/25\n",
            "890/890 [==============================] - 0s 41us/step - loss: 0.1330\n",
            "Epoch 6/25\n",
            "890/890 [==============================] - 0s 37us/step - loss: 0.1167\n",
            "Epoch 7/25\n",
            "890/890 [==============================] - 0s 36us/step - loss: 0.1290\n",
            "Epoch 8/25\n",
            "890/890 [==============================] - 0s 41us/step - loss: 0.1284\n",
            "Epoch 9/25\n",
            "890/890 [==============================] - 0s 39us/step - loss: 0.1296\n",
            "Epoch 10/25\n",
            "890/890 [==============================] - 0s 37us/step - loss: 0.1092\n",
            "Epoch 11/25\n",
            "890/890 [==============================] - 0s 38us/step - loss: 0.1374\n",
            "Epoch 12/25\n",
            "890/890 [==============================] - 0s 38us/step - loss: 0.1363\n",
            "Epoch 13/25\n",
            "890/890 [==============================] - 0s 38us/step - loss: 0.1023\n",
            "Epoch 14/25\n",
            "890/890 [==============================] - 0s 41us/step - loss: 0.0936\n",
            "Epoch 15/25\n",
            "890/890 [==============================] - 0s 40us/step - loss: 0.0864\n",
            "Epoch 16/25\n",
            "890/890 [==============================] - 0s 36us/step - loss: 0.0861\n",
            "Epoch 17/25\n",
            "890/890 [==============================] - 0s 39us/step - loss: 0.1060\n",
            "Epoch 18/25\n",
            "890/890 [==============================] - 0s 38us/step - loss: 0.1303\n",
            "Epoch 19/25\n",
            "890/890 [==============================] - 0s 39us/step - loss: 0.0831\n",
            "Epoch 20/25\n",
            "890/890 [==============================] - 0s 38us/step - loss: 0.0989\n",
            "Epoch 21/25\n",
            "890/890 [==============================] - 0s 38us/step - loss: 0.1052\n",
            "Epoch 22/25\n",
            "890/890 [==============================] - 0s 36us/step - loss: 0.0798\n",
            "Epoch 23/25\n",
            "890/890 [==============================] - 0s 39us/step - loss: 0.0800\n",
            "Epoch 24/25\n",
            "890/890 [==============================] - 0s 36us/step - loss: 0.0710\n",
            "Epoch 25/25\n",
            "890/890 [==============================] - 0s 42us/step - loss: 0.0844\n"
          ],
          "name": "stdout"
        },
        {
          "output_type": "display_data",
          "data": {
            "image/png": "[encoded data removed]",
            "text/plain": [
              "<Figure size 432x288 with 1 Axes>"
            ]
          },
          "metadata": {
            "tags": []
          }
        }
      ]
    },
    {
      "cell_type": "markdown",
      "metadata": {
        "id": "C3qqdWyYZcjg",
        "colab_type": "text"
      },
      "source": [
        "**Visualize the results**\n",
        "\n",
        "We've fit our model with the custom loss function, and it's time to see how it is performing. We'll check the R2 values again with sklearn's r2_score() function, and we'll create a scatter plot of predictions versus actual values with plt.scatter(). This will yield some interesting results!"
      ]
    },
    {
      "cell_type": "code",
      "metadata": {
        "id": "gkSaZnPwY6W5",
        "colab_type": "code",
        "colab": {
          "base_uri": "https://localhost:8080/",
          "height": 303
        },
        "outputId": "0bef825d-872f-443f-d9ad-22701368510b"
      },
      "source": [
        "# Evaluate R^2 scores\n",
        "train_preds = model_2.predict(scaled_train_features)\n",
        "test_preds = model_2.predict(scaled_test_features)\n",
        "print(r2_score(train_targets, train_preds))\n",
        "print(r2_score(test_targets, test_preds))\n",
        "\n",
        "# Scatter the predictions vs actual -- this one is interesting!\n",
        "plt.scatter(train_preds, train_targets, label='train')\n",
        "plt.scatter(test_preds, test_targets, label='test')  # plot test set\n",
        "plt.legend(); plt.show()"
      ],
      "execution_count": 45,
      "outputs": [
        {
          "output_type": "stream",
          "text": [
            "0.13300497833001046\n",
            "-0.24167626075200244\n"
          ],
          "name": "stdout"
        },
        {
          "output_type": "display_data",
          "data": {
            "image/png": "[encoded data removed]",
            "text/plain": [
              "<Figure size 432x288 with 1 Axes>"
            ]
          },
          "metadata": {
            "tags": []
          }
        }
      ]
    },
    {
      "cell_type": "markdown",
      "metadata": {
        "id": "obzpYYdxbEjn",
        "colab_type": "text"
      },
      "source": [
        "**Combatting overfitting with dropout**\n",
        "\n",
        "A common problem with neural networks is they tend to overfit to training data. What this means is the scoring metric, like R2 or accuracy, is high for the training set, but low for testing and validation sets, and the model is fitting to noise in the training data.\n",
        "\n",
        "We can work towards preventing overfitting by using dropout. This randomly drops some neurons during the training phase, which helps prevent the net from fitting noise in the training data. keras has a Dropout layer that we can use to accomplish this. We need to set the dropout rate, or fraction of connections dropped during training time. This is set as a decimal between 0 and 1 in the Dropout() layer.\n",
        "\n",
        "We're going to go back to the mean squared error loss function for this model."
      ]
    },
    {
      "cell_type": "code",
      "metadata": {
        "id": "cpkichuLZaHJ",
        "colab_type": "code",
        "colab": {
          "base_uri": "https://localhost:8080/",
          "height": 1000
        },
        "outputId": "ac288aa8-9be3-4d81-878d-556f6ddc4139"
      },
      "source": [
        "from keras.layers import Dropout\n",
        "\n",
        "# Create model with dropout\n",
        "model_3 = Sequential()\n",
        "model_3.add(Dense(100, input_dim=scaled_train_features.shape[1], activation='relu'))\n",
        "model_3.add(Dropout(0.2))\n",
        "model_3.add(Dense(20, activation='relu'))\n",
        "model_3.add(Dense(1, activation='linear'))\n",
        "\n",
        "# Fit model with mean squared error loss function\n",
        "model_3.compile(optimizer='adam', loss='mse')\n",
        "history = model_3.fit(scaled_train_features, train_targets, epochs=25)\n",
        "plt.plot(history.history['loss'])\n",
        "plt.title('loss:' + str(round(history.history['loss'][-1], 6)))\n",
        "plt.show()"
      ],
      "execution_count": 46,
      "outputs": [
        {
          "output_type": "stream",
          "text": [
            "WARNING:tensorflow:From /usr/local/lib/python3.6/dist-packages/keras/backend/tensorflow_backend.py:3733: calling dropout (from tensorflow.python.ops.nn_ops) with keep_prob is deprecated and will be removed in a future version.\n",
            "Instructions for updating:\n",
            "Please use `rate` instead of `keep_prob`. Rate should be set to `rate = 1 - keep_prob`.\n",
            "Epoch 1/25\n",
            "890/890 [==============================] - 0s 305us/step - loss: 0.0164\n",
            "Epoch 2/25\n",
            "890/890 [==============================] - 0s 44us/step - loss: 0.0079\n",
            "Epoch 3/25\n",
            "890/890 [==============================] - 0s 41us/step - loss: 0.0055\n",
            "Epoch 4/25\n",
            "890/890 [==============================] - 0s 44us/step - loss: 0.0046\n",
            "Epoch 5/25\n",
            "890/890 [==============================] - 0s 43us/step - loss: 0.0041\n",
            "Epoch 6/25\n",
            "890/890 [==============================] - 0s 49us/step - loss: 0.0034\n",
            "Epoch 7/25\n",
            "890/890 [==============================] - 0s 42us/step - loss: 0.0031\n",
            "Epoch 8/25\n",
            "890/890 [==============================] - 0s 42us/step - loss: 0.0029\n",
            "Epoch 9/25\n",
            "890/890 [==============================] - 0s 41us/step - loss: 0.0030\n",
            "Epoch 10/25\n",
            "890/890 [==============================] - 0s 42us/step - loss: 0.0028\n",
            "Epoch 11/25\n",
            "890/890 [==============================] - 0s 42us/step - loss: 0.0026\n",
            "Epoch 12/25\n",
            "890/890 [==============================] - 0s 42us/step - loss: 0.0026\n",
            "Epoch 13/25\n",
            "890/890 [==============================] - 0s 39us/step - loss: 0.0026\n",
            "Epoch 14/25\n",
            "890/890 [==============================] - 0s 43us/step - loss: 0.0024\n",
            "Epoch 15/25\n",
            "890/890 [==============================] - 0s 39us/step - loss: 0.0025\n",
            "Epoch 16/25\n",
            "890/890 [==============================] - 0s 44us/step - loss: 0.0025\n",
            "Epoch 17/25\n",
            "890/890 [==============================] - 0s 38us/step - loss: 0.0023\n",
            "Epoch 18/25\n",
            "890/890 [==============================] - 0s 42us/step - loss: 0.0023\n",
            "Epoch 19/25\n",
            "890/890 [==============================] - 0s 39us/step - loss: 0.0024\n",
            "Epoch 20/25\n",
            "890/890 [==============================] - 0s 49us/step - loss: 0.0024\n",
            "Epoch 21/25\n",
            "890/890 [==============================] - 0s 44us/step - loss: 0.0023\n",
            "Epoch 22/25\n",
            "890/890 [==============================] - 0s 42us/step - loss: 0.0023\n",
            "Epoch 23/25\n",
            "890/890 [==============================] - 0s 44us/step - loss: 0.0024\n",
            "Epoch 24/25\n",
            "890/890 [==============================] - 0s 39us/step - loss: 0.0023\n",
            "Epoch 25/25\n",
            "890/890 [==============================] - 0s 40us/step - loss: 0.0022\n"
          ],
          "name": "stdout"
        },
        {
          "output_type": "display_data",
          "data": {
            "image/png": "[encoded data removed]",
            "text/plain": [
              "<Figure size 432x288 with 1 Axes>"
            ]
          },
          "metadata": {
            "tags": []
          }
        }
      ]
    },
    {
      "cell_type": "markdown",
      "metadata": {
        "id": "fLpQOuPGbQg2",
        "colab_type": "text"
      },
      "source": [
        "**Ensembling models**\n",
        "\n",
        "One approach to improve predictions from machine learning models is ensembling. A basic approach is to average the predictions from multiple models. A more complex approach is to feed predictions of models into another model, which makes final predictions. Both approaches usually improve our overall performance (as long as our individual models are good). If you remember, random forests are also using ensembling of many decision trees.\n",
        "\n",
        "To ensemble our neural net predictions, we'll make predictions with the 3 models we just created -- the basic model, the model with the custom loss function, and the model with dropout. Then we'll combine the predictions with numpy's .hstack() function, and average them across rows with np.mean(predictions, axis=1)."
      ]
    },
    {
      "cell_type": "code",
      "metadata": {
        "id": "06-j6W21bGc-",
        "colab_type": "code",
        "colab": {
          "base_uri": "https://localhost:8080/",
          "height": 34
        },
        "outputId": "0bf438b9-9bbb-49b2-ef7f-f7c4a394cdb9"
      },
      "source": [
        "# Make predictions from the 3 neural net models\n",
        "train_pred1 = model_1.predict(scaled_train_features)\n",
        "test_pred1 = model_1.predict(scaled_test_features)\n",
        "\n",
        "train_pred2 = model_2.predict(scaled_train_features)\n",
        "test_pred2 = model_2.predict(scaled_test_features)\n",
        "\n",
        "train_pred3 = model_3.predict(scaled_train_features)\n",
        "test_pred3 = model_3.predict(scaled_test_features)\n",
        "\n",
        "# Horizontally stack predictions and take the average across rows\n",
        "train_preds = np.mean(np.hstack((train_pred1, train_pred2, train_pred3)), axis=1)\n",
        "test_preds = np.mean(np.hstack((test_pred1, test_pred2, test_pred3)), axis=1)\n",
        "print(test_preds[-5:])"
      ],
      "execution_count": 47,
      "outputs": [
        {
          "output_type": "stream",
          "text": [
            "[ 0.02994848  0.02539031  0.02909584  0.0068803  -0.0020048 ]\n"
          ],
          "name": "stdout"
        }
      ]
    },
    {
      "cell_type": "markdown",
      "metadata": {
        "id": "9B1GWBDacO2k",
        "colab_type": "text"
      },
      "source": [
        "**See how the ensemble performed**\n",
        "\n",
        "Let's check performance of our ensembled model to see how it's doing. We should see roughly an average of the R2 scores, as well as a scatter plot that is a mix of our previous models' predictions. The bow-tie shape from the custom loss function model should still be a bit visible, but the edges near x=0 should be softer."
      ]
    },
    {
      "cell_type": "code",
      "metadata": {
        "id": "JOMViacMbx1v",
        "colab_type": "code",
        "colab": {
          "base_uri": "https://localhost:8080/",
          "height": 303
        },
        "outputId": "8c427555-057a-4e71-c3b8-c1a58936e80e"
      },
      "source": [
        "from sklearn.metrics import r2_score\n",
        "\n",
        "# Evaluate the R^2 scores\n",
        "print(r2_score(train_targets, train_preds))\n",
        "print(r2_score(test_targets, test_preds))\n",
        "\n",
        "# Scatter the predictions vs actual -- this one is interesting!\n",
        "plt.scatter(train_preds, train_targets, label='train')\n",
        "plt.scatter(test_preds, test_targets, label='test')\n",
        "\n",
        "plt.legend(); plt.show()"
      ],
      "execution_count": 48,
      "outputs": [
        {
          "output_type": "stream",
          "text": [
            "0.17832378956974204\n",
            "-0.24214592991949058\n"
          ],
          "name": "stdout"
        },
        {
          "output_type": "display_data",
          "data": {
            "image/png": "[encoded data removed]",
            "text/plain": [
              "<Figure size 432x288 with 1 Axes>"
            ]
          },
          "metadata": {
            "tags": []
          }
        }
      ]
    },
    {
      "cell_type": "markdown",
      "metadata": {
        "id": "NAM6xVxPCGn6",
        "colab_type": "text"
      },
      "source": [
        "Our R^2 values are around the average of the 3 models we ensembled. Notice the plot also looks like the bow-tie shape has been softened a bit.\n",
        "\n",
        "\n",
        "---\n",
        "\n"
      ]
    },
    {
      "cell_type": "markdown",
      "metadata": {
        "id": "hln9vAQKCb1Z",
        "colab_type": "text"
      },
      "source": [
        "# 4. Machine learning with modern portfolio theory\n",
        "\n",
        "In this section , you'll learn how to use modern portfolio theory (MPT) and the Sharpe ratio to plot and find optimal stock portfolios. You'll also use machine learning to predict the best portfolios. Finally, you'll evaluate performance of the ML-predicted portfolios."
      ]
    },
    {
      "cell_type": "markdown",
      "metadata": {
        "id": "kRR7JhnnCve_",
        "colab_type": "text"
      },
      "source": [
        "**Get stock DataFrames and calculate returns**\n",
        "\n",
        "Our first step towards calculating modern portfolio theory (MPT) portfolios is to get daily and monthly returns. Eventually we're going to get the best portfolios of each month based on the Sharpe ratio. The easiest way to do this is to put all our stock prices into one DataFrame, then to resample them to the daily and monthly time frames. We need daily price changes to calculate volatility, which we will use as our measure of risk."
      ]
    },
    {
      "cell_type": "code",
      "metadata": {
        "id": "I0mNz06BilZg",
        "colab_type": "code",
        "colab": {}
      },
      "source": [
        "full_df = web.DataReader(['LNG', 'SPY', 'SMLV'],'yahoo',start='1993-01-29',end='2019-09-01')['Adj Close']\n",
        "\n",
        "#full_df = web.DataReader(['LNG', 'SPY', 'SMLV'],'yahoo',start=start,end=end)['Adj Close']\n",
        "\n",
        "#full_df = pd.concat([lng['LNG'], spy['SPY'], smlv['SMLV']], axis=1, ignore_index=False).dropna()"
      ],
      "execution_count": 0,
      "outputs": []
    },
    {
      "cell_type": "code",
      "metadata": {
        "id": "5Zm_kKu1oNZ1",
        "colab_type": "code",
        "colab": {
          "base_uri": "https://localhost:8080/",
          "height": 235
        },
        "outputId": "36c71e56-1b77-407e-efa0-d8de5e98b478"
      },
      "source": [
        "full_df.head()"
      ],
      "execution_count": 90,
      "outputs": [
        {
          "output_type": "execute_result",
          "data": {
            "text/html": [
              "<div>\n",
              "<style scoped>\n",
              "    .dataframe tbody tr th:only-of-type {\n",
              "        vertical-align: middle;\n",
              "    }\n",
              "\n",
              "    .dataframe tbody tr th {\n",
              "        vertical-align: top;\n",
              "    }\n",
              "\n",
              "    .dataframe thead th {\n",
              "        text-align: right;\n",
              "    }\n",
              "</style>\n",
              "<table border=\"1\" class=\"dataframe\">\n",
              "  <thead>\n",
              "    <tr style=\"text-align: right;\">\n",
              "      <th>Symbols</th>\n",
              "      <th>LNG</th>\n",
              "      <th>SMLV</th>\n",
              "      <th>SPY</th>\n",
              "    </tr>\n",
              "    <tr>\n",
              "      <th>Date</th>\n",
              "      <th></th>\n",
              "      <th></th>\n",
              "      <th></th>\n",
              "    </tr>\n",
              "  </thead>\n",
              "  <tbody>\n",
              "    <tr>\n",
              "      <th>1993-01-29</th>\n",
              "      <td>NaN</td>\n",
              "      <td>NaN</td>\n",
              "      <td>26.706757</td>\n",
              "    </tr>\n",
              "    <tr>\n",
              "      <th>1993-02-01</th>\n",
              "      <td>NaN</td>\n",
              "      <td>NaN</td>\n",
              "      <td>26.896694</td>\n",
              "    </tr>\n",
              "    <tr>\n",
              "      <th>1993-02-02</th>\n",
              "      <td>NaN</td>\n",
              "      <td>NaN</td>\n",
              "      <td>26.953669</td>\n",
              "    </tr>\n",
              "    <tr>\n",
              "      <th>1993-02-03</th>\n",
              "      <td>NaN</td>\n",
              "      <td>NaN</td>\n",
              "      <td>27.238594</td>\n",
              "    </tr>\n",
              "    <tr>\n",
              "      <th>1993-02-04</th>\n",
              "      <td>NaN</td>\n",
              "      <td>NaN</td>\n",
              "      <td>27.352570</td>\n",
              "    </tr>\n",
              "  </tbody>\n",
              "</table>\n",
              "</div>"
            ],
            "text/plain": [
              "Symbols     LNG  SMLV        SPY\n",
              "Date                            \n",
              "1993-01-29  NaN   NaN  26.706757\n",
              "1993-02-01  NaN   NaN  26.896694\n",
              "1993-02-02  NaN   NaN  26.953669\n",
              "1993-02-03  NaN   NaN  27.238594\n",
              "1993-02-04  NaN   NaN  27.352570"
            ]
          },
          "metadata": {
            "tags": []
          },
          "execution_count": 90
        }
      ]
    },
    {
      "cell_type": "code",
      "metadata": {
        "id": "DYjvduKKkahH",
        "colab_type": "code",
        "colab": {
          "base_uri": "https://localhost:8080/",
          "height": 153
        },
        "outputId": "92865b35-3fc3-413c-f4a9-c08c43003978"
      },
      "source": [
        "full_df.info()"
      ],
      "execution_count": 91,
      "outputs": [
        {
          "output_type": "stream",
          "text": [
            "<class 'pandas.core.frame.DataFrame'>\n",
            "DatetimeIndex: 6696 entries, 1993-01-29 to 2019-08-30\n",
            "Data columns (total 3 columns):\n",
            "LNG     6399 non-null float64\n",
            "SMLV    1644 non-null float64\n",
            "SPY     6696 non-null float64\n",
            "dtypes: float64(3)\n",
            "memory usage: 209.2 KB\n"
          ],
          "name": "stdout"
        }
      ]
    },
    {
      "cell_type": "code",
      "metadata": {
        "id": "SLzIOQ3pks9d",
        "colab_type": "code",
        "colab": {
          "base_uri": "https://localhost:8080/",
          "height": 297
        },
        "outputId": "e5357727-ef0c-400b-9f4f-24d7bc45f1bc"
      },
      "source": [
        "full_df.describe()"
      ],
      "execution_count": 92,
      "outputs": [
        {
          "output_type": "execute_result",
          "data": {
            "text/html": [
              "<div>\n",
              "<style scoped>\n",
              "    .dataframe tbody tr th:only-of-type {\n",
              "        vertical-align: middle;\n",
              "    }\n",
              "\n",
              "    .dataframe tbody tr th {\n",
              "        vertical-align: top;\n",
              "    }\n",
              "\n",
              "    .dataframe thead th {\n",
              "        text-align: right;\n",
              "    }\n",
              "</style>\n",
              "<table border=\"1\" class=\"dataframe\">\n",
              "  <thead>\n",
              "    <tr style=\"text-align: right;\">\n",
              "      <th>Symbols</th>\n",
              "      <th>LNG</th>\n",
              "      <th>SMLV</th>\n",
              "      <th>SPY</th>\n",
              "    </tr>\n",
              "  </thead>\n",
              "  <tbody>\n",
              "    <tr>\n",
              "      <th>count</th>\n",
              "      <td>6399.000000</td>\n",
              "      <td>1644.000000</td>\n",
              "      <td>6696.000000</td>\n",
              "    </tr>\n",
              "    <tr>\n",
              "      <th>mean</th>\n",
              "      <td>21.614142</td>\n",
              "      <td>72.033842</td>\n",
              "      <td>111.715838</td>\n",
              "    </tr>\n",
              "    <tr>\n",
              "      <th>std</th>\n",
              "      <td>22.302389</td>\n",
              "      <td>14.447508</td>\n",
              "      <td>65.736666</td>\n",
              "    </tr>\n",
              "    <tr>\n",
              "      <th>min</th>\n",
              "      <td>0.400000</td>\n",
              "      <td>46.307892</td>\n",
              "      <td>26.383823</td>\n",
              "    </tr>\n",
              "    <tr>\n",
              "      <th>25%</th>\n",
              "      <td>3.000000</td>\n",
              "      <td>59.897243</td>\n",
              "      <td>71.553551</td>\n",
              "    </tr>\n",
              "    <tr>\n",
              "      <th>50%</th>\n",
              "      <td>10.000000</td>\n",
              "      <td>66.764145</td>\n",
              "      <td>93.927364</td>\n",
              "    </tr>\n",
              "    <tr>\n",
              "      <th>75%</th>\n",
              "      <td>37.669998</td>\n",
              "      <td>86.261051</td>\n",
              "      <td>128.409050</td>\n",
              "    </tr>\n",
              "    <tr>\n",
              "      <th>max</th>\n",
              "      <td>84.459999</td>\n",
              "      <td>96.758392</td>\n",
              "      <td>302.010010</td>\n",
              "    </tr>\n",
              "  </tbody>\n",
              "</table>\n",
              "</div>"
            ],
            "text/plain": [
              "Symbols          LNG         SMLV          SPY\n",
              "count    6399.000000  1644.000000  6696.000000\n",
              "mean       21.614142    72.033842   111.715838\n",
              "std        22.302389    14.447508    65.736666\n",
              "min         0.400000    46.307892    26.383823\n",
              "25%         3.000000    59.897243    71.553551\n",
              "50%        10.000000    66.764145    93.927364\n",
              "75%        37.669998    86.261051   128.409050\n",
              "max        84.459999    96.758392   302.010010"
            ]
          },
          "metadata": {
            "tags": []
          },
          "execution_count": 92
        }
      ]
    },
    {
      "cell_type": "code",
      "metadata": {
        "id": "CxiATNvwk3eN",
        "colab_type": "code",
        "colab": {
          "base_uri": "https://localhost:8080/",
          "height": 136
        },
        "outputId": "0e214190-52cf-4b42-e799-1253da48f609"
      },
      "source": [
        "# Resample the full dataframe to monthly timeframe\n",
        "monthly_df = full_df.resample('BMS').first()\n",
        "\n",
        "# Calculate daily returns of stocks\n",
        "returns_daily = full_df.pct_change()\n",
        "\n",
        "# Calculate monthly returns of the stocks\n",
        "returns_monthly = monthly_df.pct_change().dropna()\n",
        "print(returns_monthly.tail())"
      ],
      "execution_count": 93,
      "outputs": [
        {
          "output_type": "stream",
          "text": [
            "Symbols          LNG      SMLV       SPY\n",
            "Date                                    \n",
            "2019-04-01  0.061875 -0.007942  0.023782\n",
            "2019-05-01 -0.051648  0.011040  0.020922\n",
            "2019-06-03  0.004500 -0.039396 -0.059079\n",
            "2019-07-01  0.083102  0.049774  0.082048\n",
            "2019-08-01 -0.090844  0.007598 -0.002773\n"
          ],
          "name": "stdout"
        }
      ]
    },
    {
      "cell_type": "code",
      "metadata": {
        "id": "FXJG0nvflLbz",
        "colab_type": "code",
        "colab": {
          "base_uri": "https://localhost:8080/",
          "height": 235
        },
        "outputId": "d273073e-54f9-4e32-e410-8a91842456b1"
      },
      "source": [
        "returns_monthly.head()"
      ],
      "execution_count": 94,
      "outputs": [
        {
          "output_type": "execute_result",
          "data": {
            "text/html": [
              "<div>\n",
              "<style scoped>\n",
              "    .dataframe tbody tr th:only-of-type {\n",
              "        vertical-align: middle;\n",
              "    }\n",
              "\n",
              "    .dataframe tbody tr th {\n",
              "        vertical-align: top;\n",
              "    }\n",
              "\n",
              "    .dataframe thead th {\n",
              "        text-align: right;\n",
              "    }\n",
              "</style>\n",
              "<table border=\"1\" class=\"dataframe\">\n",
              "  <thead>\n",
              "    <tr style=\"text-align: right;\">\n",
              "      <th>Symbols</th>\n",
              "      <th>LNG</th>\n",
              "      <th>SMLV</th>\n",
              "      <th>SPY</th>\n",
              "    </tr>\n",
              "    <tr>\n",
              "      <th>Date</th>\n",
              "      <th></th>\n",
              "      <th></th>\n",
              "      <th></th>\n",
              "    </tr>\n",
              "  </thead>\n",
              "  <tbody>\n",
              "    <tr>\n",
              "      <th>2013-03-01</th>\n",
              "      <td>-0.019008</td>\n",
              "      <td>0.000503</td>\n",
              "      <td>0.005752</td>\n",
              "    </tr>\n",
              "    <tr>\n",
              "      <th>2013-04-01</th>\n",
              "      <td>0.320416</td>\n",
              "      <td>0.037556</td>\n",
              "      <td>0.030465</td>\n",
              "    </tr>\n",
              "    <tr>\n",
              "      <th>2013-05-01</th>\n",
              "      <td>-0.001790</td>\n",
              "      <td>0.004701</td>\n",
              "      <td>0.014290</td>\n",
              "    </tr>\n",
              "    <tr>\n",
              "      <th>2013-06-03</th>\n",
              "      <td>0.048404</td>\n",
              "      <td>0.020168</td>\n",
              "      <td>0.038350</td>\n",
              "    </tr>\n",
              "    <tr>\n",
              "      <th>2013-07-01</th>\n",
              "      <td>-0.014022</td>\n",
              "      <td>-0.003296</td>\n",
              "      <td>-0.012998</td>\n",
              "    </tr>\n",
              "  </tbody>\n",
              "</table>\n",
              "</div>"
            ],
            "text/plain": [
              "Symbols          LNG      SMLV       SPY\n",
              "Date                                    \n",
              "2013-03-01 -0.019008  0.000503  0.005752\n",
              "2013-04-01  0.320416  0.037556  0.030465\n",
              "2013-05-01 -0.001790  0.004701  0.014290\n",
              "2013-06-03  0.048404  0.020168  0.038350\n",
              "2013-07-01 -0.014022 -0.003296 -0.012998"
            ]
          },
          "metadata": {
            "tags": []
          },
          "execution_count": 94
        }
      ]
    },
    {
      "cell_type": "markdown",
      "metadata": {
        "id": "A4BuHfzzaCSE",
        "colab_type": "text"
      },
      "source": [
        "**Calculate covariances for volatility**\n",
        "\n",
        "In MPT, we quantify risk via volatility. The math for calculating portfolio volatility is complex, and it requires daily returns covariances. We'll now loop through each month in the returns_monthly DataFrame, and calculate the covariance of the daily returns.\n",
        "\n",
        "With pandas datetime indices, we can access the month and year with df.index.month and df.index.year. We'll use this to create a mask for returns_daily that gives us the daily returns for the current month and year in the loop. We then use the mask to subset the DataFrame like this: df[mask]. This gets entries in the returns_daily DataFrame which are in the current month and year in each cycle of the loop. Finally, we'll use pandas' .cov() method to get the covariance of daily returns."
      ]
    },
    {
      "cell_type": "code",
      "metadata": {
        "id": "XLGZQW_BlbYD",
        "colab_type": "code",
        "colab": {
          "base_uri": "https://localhost:8080/",
          "height": 102
        },
        "outputId": "75fb1c2c-bea7-4206-9a16-46f5a03a1c47"
      },
      "source": [
        "# Daily covariance of stocks (for each monthly period)\n",
        "covariances = {}\n",
        "rtd_idx = returns_daily.index\n",
        "for i in returns_monthly.index:    \n",
        "    # Mask daily returns for each month and year, and calculate covariance\n",
        "    mask = (rtd_idx.month == i.month) & (rtd_idx.year == i.year)\n",
        "    \n",
        "    # Use the mask to get daily returns for the current month and year of monthy returns index\n",
        "    covariances[i] = returns_daily[mask].cov()\n",
        "\n",
        "print(covariances[i])"
      ],
      "execution_count": 95,
      "outputs": [
        {
          "output_type": "stream",
          "text": [
            "Symbols       LNG      SMLV       SPY\n",
            "Symbols                              \n",
            "LNG      0.000357  0.000197  0.000239\n",
            "SMLV     0.000197  0.000144  0.000165\n",
            "SPY      0.000239  0.000165  0.000211\n"
          ],
          "name": "stdout"
        }
      ]
    },
    {
      "cell_type": "markdown",
      "metadata": {
        "id": "iKO2CQ8MaHrl",
        "colab_type": "text"
      },
      "source": [
        "**Calculate portfolios**\n",
        "\n",
        "We'll now generate portfolios to find each month's best one. numpy's random.random() generates random numbers from a uniform distribution, then we normalize them so they sum to 1 using the /= operator. We use these weights to calculate returns and volatility. Returns are sums of weights times individual returns. Volatility is more complex, and involves the covariances of the different stocks.\n",
        "\n",
        "Finally we'll store the values in dictionaries for later use, with months' dates as keys.\n",
        "\n",
        "In this case, we will only generate 10 portfolios for each date so the code will run faster, but in a real-world use-case you'd want to use more like 1000 to 5000 randomly-generated portfolios for a few stocks."
      ]
    },
    {
      "cell_type": "code",
      "metadata": {
        "id": "UBwDCXs0mP1G",
        "colab_type": "code",
        "colab": {
          "base_uri": "https://localhost:8080/",
          "height": 34
        },
        "outputId": "68df7132-7985-4133-d43a-9f242b38ef62"
      },
      "source": [
        "portfolio_returns, portfolio_volatility, portfolio_weights = {}, {}, {}\n",
        "\n",
        "# Get portfolio performances at each month\n",
        "for date in sorted(covariances.keys()):\n",
        "    cov = covariances[date]\n",
        "    for portfolio in range(10):\n",
        "        weights = np.random.random(3)\n",
        "        weights /= np.sum(weights) # /= divides weights by their sum to normalize\n",
        "        returns = np.dot(weights, returns_monthly.loc[date])\n",
        "        volatility = np.sqrt(np.dot(weights.T, np.dot(cov, weights)))\n",
        "        portfolio_returns.setdefault(date, []).append(returns)\n",
        "        portfolio_volatility.setdefault(date, []).append(volatility)\n",
        "        portfolio_weights.setdefault(date, []).append(weights)\n",
        "        \n",
        "print(portfolio_weights[date][0])"
      ],
      "execution_count": 96,
      "outputs": [
        {
          "output_type": "stream",
          "text": [
            "[0.42502081 0.01960635 0.55537284]\n"
          ],
          "name": "stdout"
        }
      ]
    },
    {
      "cell_type": "markdown",
      "metadata": {
        "id": "yOd5V5BqaOj6",
        "colab_type": "text"
      },
      "source": [
        "**Plot efficient frontier**\n",
        "\n",
        "We can finally plot the results of our MPT portfolios, which shows the \"efficient frontier\". This is a plot of the volatility vs the returns. This can help us visualize our risk-return possibilities for portfolios. The upper left boundary of the points is the best we can do (highest return for a given risk), and that is the efficient frontier.\n",
        "\n",
        "To create this plot, we will use the latest date in our covariances dictionary which we created a few exercises ago. This has dates as keys, so we'll get the sorted keys using sorted() and .keys(), then get the last entry with Python indexing ([-1]). Lastly we'll use matplotlib to scatter variance vs returns and see the efficient frontier for the latest date in the data."
      ]
    },
    {
      "cell_type": "code",
      "metadata": {
        "id": "egHPJPUjmtsV",
        "colab_type": "code",
        "colab": {
          "base_uri": "https://localhost:8080/",
          "height": 283
        },
        "outputId": "2d24e5c1-162e-47b6-cdf2-2cfdaca95776"
      },
      "source": [
        "# Get latest date of available data\n",
        "date = sorted(covariances.keys())[-1]  \n",
        "\n",
        "# Plot efficient frontier\n",
        "# warning: this can take at least 10s for the plot to execute...\n",
        "plt.scatter(x=portfolio_volatility[date], y=portfolio_returns[date],  alpha=0.6)\n",
        "plt.xlabel('Volatility')\n",
        "plt.ylabel('Returns')\n",
        "plt.show()"
      ],
      "execution_count": 112,
      "outputs": [
        {
          "output_type": "display_data",
          "data": {
            "image/png": "[encoded data removed]",
            "text/plain": [
              "<Figure size 432x288 with 1 Axes>"
            ]
          },
          "metadata": {
            "tags": []
          }
        }
      ]
    },
    {
      "cell_type": "markdown",
      "metadata": {
        "id": "sbUuubfwaVhM",
        "colab_type": "text"
      },
      "source": [
        "**Get best Sharpe ratios**\n",
        "\n",
        "We need to find the \"ideal\" portfolios for each date so we can use them as targets for machine learning. We'll loop through each date in portfolio_returns, then loop through the portfolios we generated with portfolio_returns[date]. We'll then calculate the Sharpe ratio, which is the return divided by volatility (assuming a no-risk return of 0).\n",
        "\n",
        "We use enumerate() to loop through the returns for the current date (portfolio_returns[date]) and keep track of the index with i. Then we use the current date and current index to get the volatility of each portfolio with portfolio_volatility[date][i]. Finally, we get the index of the best Sharpe ratio for each date using np.argmax(). We'll use this index to get the ideal portfolio weights soon."
      ]
    },
    {
      "cell_type": "code",
      "metadata": {
        "id": "proywEYQGBF7",
        "colab_type": "code",
        "colab": {
          "base_uri": "https://localhost:8080/",
          "height": 34
        },
        "outputId": "a8e636d4-156e-4105-feef-d3e15629c150"
      },
      "source": [
        "# Empty dictionaries for sharpe ratios and best sharpe indexes by date\n",
        "sharpe_ratio, max_sharpe_idxs = {}, {}\n",
        "\n",
        "# Loop through dates and get sharpe ratio for each portfolio\n",
        "for date in portfolio_returns.keys():\n",
        "    for i, ret in enumerate(portfolio_returns[date]):\n",
        "    \n",
        "        # Divide returns by the volatility for the date and index, i\n",
        "        sharpe_ratio.setdefault(date, []).append(ret / portfolio_volatility[date][i])\n",
        "\n",
        "    # Get the index of the best sharpe ratio for each date\n",
        "    max_sharpe_idxs[date] = np.argmax(sharpe_ratio[date])\n",
        "\n",
        "print(portfolio_returns[date][max_sharpe_idxs[date]])"
      ],
      "execution_count": 98,
      "outputs": [
        {
          "output_type": "stream",
          "text": [
            "-0.019335165131204354\n"
          ],
          "name": "stdout"
        }
      ]
    },
    {
      "cell_type": "markdown",
      "metadata": {
        "id": "jDSMa3GraZwl",
        "colab_type": "text"
      },
      "source": [
        "**Calculate EWMAs**\n",
        "\n",
        "We will now work towards creating some features to be able to predict our ideal portfolios. We will simply use the price movement as a feature for now. To do this we will create a daily exponentially-weighted moving average (EWMA), then resample that to the monthly timeframe. Finally, we'll shift the monthly moving average of price one month in the future, so we can use it as a feature for predicting future portfolios."
      ]
    },
    {
      "cell_type": "code",
      "metadata": {
        "id": "90a80z2BGL1B",
        "colab_type": "code",
        "colab": {
          "base_uri": "https://localhost:8080/",
          "height": 102
        },
        "outputId": "0552c012-466f-4cdc-fb4f-9d5316efe5e8"
      },
      "source": [
        "# Calculate exponentially-weighted moving average of daily returns\n",
        "ewma_daily = returns_daily.ewm(span=30).mean()\n",
        "\n",
        "# Resample daily returns to first business day of the month with the first day for that month\n",
        "ewma_monthly = ewma_daily.resample('BMS').first()\n",
        "\n",
        "# Shift ewma for the month by 1 month forward so we can use it as a feature for future predictions \n",
        "ewma_monthly = ewma_monthly.shift(1).dropna()\n",
        "\n",
        "print(ewma_monthly.iloc[-1])"
      ],
      "execution_count": 99,
      "outputs": [
        {
          "output_type": "stream",
          "text": [
            "Symbols\n",
            "LNG     0.003301\n",
            "SMLV    0.001303\n",
            "SPY     0.001764\n",
            "Name: 2019-08-01 00:00:00, dtype: float64\n"
          ],
          "name": "stdout"
        }
      ]
    },
    {
      "cell_type": "markdown",
      "metadata": {
        "id": "me4u8KwyafJk",
        "colab_type": "text"
      },
      "source": [
        "**Make features and targets**\n",
        "\n",
        "To use machine learning to pick the best portfolio, we need to generate features and targets. Our features were just created in the last exercise – the exponentially weighted moving averages of prices. Our targets will be the best portfolios we found from the highest Sharpe ratio.\n",
        "\n",
        "We will use pandas' .iterrows() method to get the index, value pairs for the ewma_monthly DataFrame. We'll set the current value of ewma_monthly in the loop to be our features. Then we'll use the index of the best Sharpe ratio (from max_sharpe_idxs) to get the best portfolio_weights for each month and set that as a target."
      ]
    },
    {
      "cell_type": "code",
      "metadata": {
        "id": "67Uo799dMn1z",
        "colab_type": "code",
        "colab": {
          "base_uri": "https://localhost:8080/",
          "height": 102
        },
        "outputId": "13bd5e2f-95db-489c-81a9-75dd00ba7887"
      },
      "source": [
        "targets, features = [], []\n",
        "\n",
        "# Create features from price history and targets as ideal portfolio\n",
        "for date, ewma in ewma_monthly.iterrows():\n",
        "\n",
        "    # Get the index of the best sharpe ratio\n",
        "    best_idx = max_sharpe_idxs[date]\n",
        "    targets.append(portfolio_weights[date][best_idx])\n",
        "    features.append(ewma)  # add ewma to features\n",
        "\n",
        "targets = np.array(targets)\n",
        "features = np.array(features)\n",
        "print(targets[-5:])"
      ],
      "execution_count": 100,
      "outputs": [
        {
          "output_type": "stream",
          "text": [
            "[[0.47685211 0.02255415 0.50059374]\n",
            " [0.02427809 0.79830002 0.17742189]\n",
            " [0.49062247 0.30201596 0.20736157]\n",
            " [0.24452458 0.24296054 0.51251488]\n",
            " [0.21959344 0.26784704 0.51255951]]\n"
          ],
          "name": "stdout"
        }
      ]
    },
    {
      "cell_type": "markdown",
      "metadata": {
        "id": "ScBg0F7laitw",
        "colab_type": "text"
      },
      "source": [
        "**Plot efficient frontier with best Sharpe ratio**\n",
        "\n",
        "Let's now plot the efficient frontier again, but add a marker for the portfolio with the best Sharpe index. Visualizing our data is always a good idea to better understand it.\n",
        "\n",
        "Recall the efficient frontier is plotted in a scatter plot of portfolio volatility on the x-axis, and portfolio returns on the y-axis. We'll get the latest date we have in our data from covariances.keys(), although any of the portfolio_returns, etc, dictionaries could be used as well to get the date. Then we get volatilities and returns for the latest date we have from our portfolio_volatility and portfolio_returns. Finally we get the index of the portfolio with the best Sharpe index from max_sharpe_idxs[date], and plot everything with plt.scatter()."
      ]
    },
    {
      "cell_type": "code",
      "metadata": {
        "id": "ag0mZNIyGMHb",
        "colab_type": "code",
        "colab": {
          "base_uri": "https://localhost:8080/",
          "height": 283
        },
        "outputId": "ee07ee0b-0c40-4de7-bb31-52041b13e84f"
      },
      "source": [
        "# Get most recent (current) returns and volatility\n",
        "date = sorted(covariances.keys())[-1]\n",
        "cur_returns = portfolio_returns[date]\n",
        "cur_volatility = portfolio_volatility[date]\n",
        "\n",
        "# Plot efficient frontier with sharpe as point\n",
        "plt.scatter(x=cur_volatility, y=cur_returns, alpha=0.4, color='blue')\n",
        "best_idx = max_sharpe_idxs[date]\n",
        "\n",
        "# Place an orange \"X\" on the point with the best Sharpe ratio\n",
        "plt.scatter(x=cur_volatility[best_idx], y=cur_returns[best_idx], marker='x', color='orange')\n",
        "plt.xlabel('Volatility')\n",
        "plt.ylabel('Returns')\n",
        "plt.show()"
      ],
      "execution_count": 114,
      "outputs": [
        {
          "output_type": "display_data",
          "data": {
            "image/png": "[encoded data removed]",
            "text/plain": [
              "<Figure size 432x288 with 1 Axes>"
            ]
          },
          "metadata": {
            "tags": []
          }
        }
      ]
    },
    {
      "cell_type": "markdown",
      "metadata": {
        "id": "ZMvjR8cxaq2G",
        "colab_type": "text"
      },
      "source": [
        "**Make predictions with a random forest**\n",
        "\n",
        "In order to fit a machine learning model to predict ideal portfolios, we need to create train and test sets for evaluating performance. We will do this as we did in previous chapters, where we take our features and targets arrays, and split them based on a train_size we set. Often the train size may be around 70-90% of our data.\n",
        "\n",
        "We then fit our model (a random forest in this case) to the training data, and evaluate the R2 scores on train and test using .score() from our model. In this case, the hyperparameters have been set for you, but usually you'd want to do a search with ParameterGrid like we did in previous chapters."
      ]
    },
    {
      "cell_type": "code",
      "metadata": {
        "id": "xZw-0T8TGMgW",
        "colab_type": "code",
        "colab": {
          "base_uri": "https://localhost:8080/",
          "height": 139
        },
        "outputId": "cdf0bfd4-e79c-4797-adcd-f7c81990da89"
      },
      "source": [
        "from sklearn.ensemble import RandomForestRegressor\n",
        "# Make train and test features\n",
        "train_size = int(0.85 * features.shape[1])\n",
        "train_features = features[:train_size]\n",
        "test_features = features[train_size:]\n",
        "train_targets = targets[:train_size]\n",
        "test_targets = targets[train_size:]\n",
        "\n",
        "# Fit the model and check scores on train and test\n",
        "rfr = RandomForestRegressor(n_estimators=300, random_state=42)\n",
        "rfr.fit(train_features, train_targets)\n",
        "print(rfr.score(train_features, train_targets))\n",
        "print(rfr.score(test_features, test_targets))"
      ],
      "execution_count": 108,
      "outputs": [
        {
          "output_type": "stream",
          "text": [
            "0.7385555555555592\n",
            "-0.5712005909016334\n"
          ],
          "name": "stdout"
        },
        {
          "output_type": "stream",
          "text": [
            "/usr/local/lib/python3.6/dist-packages/sklearn/base.py:420: FutureWarning: The default value of multioutput (not exposed in score method) will change from 'variance_weighted' to 'uniform_average' in 0.23 to keep consistent with 'metrics.r2_score'. To specify the default value manually and avoid the warning, please either call 'metrics.r2_score' directly or make a custom scorer with 'metrics.make_scorer' (the built-in scorer 'r2' uses multioutput='uniform_average').\n",
            "  \"multioutput='uniform_average').\", FutureWarning)\n",
            "/usr/local/lib/python3.6/dist-packages/sklearn/base.py:420: FutureWarning: The default value of multioutput (not exposed in score method) will change from 'variance_weighted' to 'uniform_average' in 0.23 to keep consistent with 'metrics.r2_score'. To specify the default value manually and avoid the warning, please either call 'metrics.r2_score' directly or make a custom scorer with 'metrics.make_scorer' (the built-in scorer 'r2' uses multioutput='uniform_average').\n",
            "  \"multioutput='uniform_average').\", FutureWarning)\n"
          ],
          "name": "stderr"
        }
      ]
    },
    {
      "cell_type": "markdown",
      "metadata": {
        "id": "KM2N4vOdavIb",
        "colab_type": "text"
      },
      "source": [
        "**Get predictions and first evaluation**\n",
        "\n",
        "Now that we have a trained random forest model (rfr), we want to use it to get predictions on the test set. We do this to evaluate our model's performance – at a basic level, is it doing as well or better than just buying the index, SPY?\n",
        "\n",
        "We'll use the typical sklearn .predict(features) method, then multiply our monthly returns by our portfolio predictions. We sum these up with np.sum() since this will have 3 rows for each month. Then we plot both the monthly returns from our predictions, as well as SPY and compare the two."
      ]
    },
    {
      "cell_type": "code",
      "metadata": {
        "id": "7bh8L9fEGMTd",
        "colab_type": "code",
        "colab": {
          "base_uri": "https://localhost:8080/",
          "height": 269
        },
        "outputId": "54bab9f3-e51b-4dfe-e0d8-26a9455ec424"
      },
      "source": [
        "# Get predictions from model on train and test\n",
        "train_predictions = rfr.predict(train_features)\n",
        "test_predictions = rfr.predict(test_features)\n",
        "\n",
        "# Calculate and plot returns from our RF predictions and the SPY returns\n",
        "test_returns = np.sum(returns_monthly.iloc[train_size:] * test_predictions, axis=1)\n",
        "plt.plot(test_returns, label='Algo')\n",
        "plt.plot(returns_monthly['SPY'].iloc[train_size:], label='SPY')\n",
        "plt.legend()\n",
        "plt.show()"
      ],
      "execution_count": 109,
      "outputs": [
        {
          "output_type": "display_data",
          "data": {
            "image/png": "[encoded data removed]",
            "text/plain": [
              "<Figure size 432x288 with 1 Axes>"
            ]
          },
          "metadata": {
            "tags": []
          }
        }
      ]
    },
    {
      "cell_type": "markdown",
      "metadata": {
        "id": "5js2llpca0ct",
        "colab_type": "text"
      },
      "source": [
        "**Evaluate returns**\n",
        "\n",
        "Let's now see how our portfolio selection would perform as compared with just investing in the SPY. We'll do this to see if our predictions are promising, despite the low R2 value.\n",
        "\n",
        "We will set a starting value for our investment of $1000, then loop through the returns from our predictions as well as from SPY. We'll use the monthly returns from our portfolio selection and SPY and apply them to our starting cash balance. From this we will get a month-by-month picture of how our investment is doing, and we can see how our predictions did overall vs the SPY. Next, we can plot our portfolio from our predictions and compare it to SPY."
      ]
    },
    {
      "cell_type": "code",
      "metadata": {
        "id": "kNl3sXM3P_LR",
        "colab_type": "code",
        "colab": {
          "base_uri": "https://localhost:8080/",
          "height": 51
        },
        "outputId": "0cbffa68-aa4e-445a-e22c-ef1342a7c277"
      },
      "source": [
        "# Calculate the effect of our portfolio selection on a hypothetical $1k investment\n",
        "cash = 1000\n",
        "algo_cash, spy_cash = [cash], [cash]  # set equal starting cash amounts\n",
        "for r in test_returns:\n",
        "    cash *= 1 + r\n",
        "    algo_cash.append(cash)\n",
        "\n",
        "# Calculate performance for SPY\n",
        "cash = 1000  # reset cash amount\n",
        "for r in returns_monthly['SPY'].iloc[train_size:]:\n",
        "    cash *= 1 +r\n",
        "    spy_cash.append(cash)\n",
        "\n",
        "print('algo returns:', (algo_cash[-1] - algo_cash[0]) / algo_cash[0])\n",
        "print('SPY returns:', (spy_cash[-1] - spy_cash[0]) / spy_cash[0])"
      ],
      "execution_count": 110,
      "outputs": [
        {
          "output_type": "stream",
          "text": [
            "algo returns: 1.3778618391221444\n",
            "SPY returns: 1.1386030981611188\n"
          ],
          "name": "stdout"
        }
      ]
    },
    {
      "cell_type": "markdown",
      "metadata": {
        "id": "mE0JPCuIa5OE",
        "colab_type": "text"
      },
      "source": [
        "**Plot returns**\n",
        "\n",
        "Lastly, we'll plot the performance of our machine-learning-generated portfolio versus just holding the SPY. We can use this as an evaluation to see if our predictions are doing well or not.\n",
        "\n",
        "Since we already have algo_cash and spy_cash created, all we need to do is provide them to plt.plot() to display. We'll also set the label for the datasets with legend in plt.plot()."
      ]
    },
    {
      "cell_type": "code",
      "metadata": {
        "id": "H54KbVTMLRuA",
        "colab_type": "code",
        "colab": {
          "base_uri": "https://localhost:8080/",
          "height": 269
        },
        "outputId": "ac5f27b9-f607-435a-d9cf-134689f37e8a"
      },
      "source": [
        "# Plot the algo_cash and spy_cash to compare overall returns\n",
        "plt.plot(algo_cash, label='algo')\n",
        "plt.plot(spy_cash, label='SPY')\n",
        "plt.legend()  # show the legend\n",
        "plt.show()"
      ],
      "execution_count": 111,
      "outputs": [
        {
          "output_type": "display_data",
          "data": {
            "image/png": "[encoded data removed]",
            "text/plain": [
              "<Figure size 432x288 with 1 Axes>"
            ]
          },
          "metadata": {
            "tags": []
          }
        }
      ]
    },
    {
      "cell_type": "markdown",
      "metadata": {
        "id": "e2qA4oWvEId1",
        "colab_type": "text"
      },
      "source": [
        "\n",
        "\n",
        "---\n",
        "\n"
      ]
    },
    {
      "cell_type": "markdown",
      "metadata": {
        "id": "8Cy9sZE0_vx_",
        "colab_type": "text"
      },
      "source": [
        "# 5. Predicting Google Stock"
      ]
    },
    {
      "cell_type": "code",
      "metadata": {
        "id": "SbSSczQ8nFPw",
        "colab_type": "code",
        "colab": {
          "base_uri": "https://localhost:8080/",
          "height": 235
        },
        "outputId": "7de6ff4b-57b8-4f27-d0e4-1e10ffaf759f"
      },
      "source": [
        "google.head()"
      ],
      "execution_count": 115,
      "outputs": [
        {
          "output_type": "execute_result",
          "data": {
            "text/html": [
              "<div>\n",
              "<style scoped>\n",
              "    .dataframe tbody tr th:only-of-type {\n",
              "        vertical-align: middle;\n",
              "    }\n",
              "\n",
              "    .dataframe tbody tr th {\n",
              "        vertical-align: top;\n",
              "    }\n",
              "\n",
              "    .dataframe thead th {\n",
              "        text-align: right;\n",
              "    }\n",
              "</style>\n",
              "<table border=\"1\" class=\"dataframe\">\n",
              "  <thead>\n",
              "    <tr style=\"text-align: right;\">\n",
              "      <th></th>\n",
              "      <th>High</th>\n",
              "      <th>Low</th>\n",
              "      <th>Open</th>\n",
              "      <th>Close</th>\n",
              "      <th>Volume</th>\n",
              "      <th>Adj Close</th>\n",
              "    </tr>\n",
              "    <tr>\n",
              "      <th>Date</th>\n",
              "      <th></th>\n",
              "      <th></th>\n",
              "      <th></th>\n",
              "      <th></th>\n",
              "      <th></th>\n",
              "      <th></th>\n",
              "    </tr>\n",
              "  </thead>\n",
              "  <tbody>\n",
              "    <tr>\n",
              "      <th>2014-01-02</th>\n",
              "      <td>559.434448</td>\n",
              "      <td>554.684692</td>\n",
              "      <td>558.288269</td>\n",
              "      <td>557.117126</td>\n",
              "      <td>3639100.0</td>\n",
              "      <td>557.117126</td>\n",
              "    </tr>\n",
              "    <tr>\n",
              "      <th>2014-01-03</th>\n",
              "      <td>559.024048</td>\n",
              "      <td>553.018005</td>\n",
              "      <td>558.058044</td>\n",
              "      <td>553.053040</td>\n",
              "      <td>3330000.0</td>\n",
              "      <td>553.053040</td>\n",
              "    </tr>\n",
              "    <tr>\n",
              "      <th>2014-01-06</th>\n",
              "      <td>559.989990</td>\n",
              "      <td>553.773804</td>\n",
              "      <td>557.062073</td>\n",
              "      <td>559.219238</td>\n",
              "      <td>3535000.0</td>\n",
              "      <td>559.219238</td>\n",
              "    </tr>\n",
              "    <tr>\n",
              "      <th>2014-01-07</th>\n",
              "      <td>570.415405</td>\n",
              "      <td>561.141113</td>\n",
              "      <td>563.063049</td>\n",
              "      <td>570.000000</td>\n",
              "      <td>5100000.0</td>\n",
              "      <td>570.000000</td>\n",
              "    </tr>\n",
              "    <tr>\n",
              "      <th>2014-01-08</th>\n",
              "      <td>574.234253</td>\n",
              "      <td>567.212219</td>\n",
              "      <td>573.573547</td>\n",
              "      <td>571.186157</td>\n",
              "      <td>4480500.0</td>\n",
              "      <td>571.186157</td>\n",
              "    </tr>\n",
              "  </tbody>\n",
              "</table>\n",
              "</div>"
            ],
            "text/plain": [
              "                  High         Low  ...     Volume   Adj Close\n",
              "Date                                ...                       \n",
              "2014-01-02  559.434448  554.684692  ...  3639100.0  557.117126\n",
              "2014-01-03  559.024048  553.018005  ...  3330000.0  553.053040\n",
              "2014-01-06  559.989990  553.773804  ...  3535000.0  559.219238\n",
              "2014-01-07  570.415405  561.141113  ...  5100000.0  570.000000\n",
              "2014-01-08  574.234253  567.212219  ...  4480500.0  571.186157\n",
              "\n",
              "[5 rows x 6 columns]"
            ]
          },
          "metadata": {
            "tags": []
          },
          "execution_count": 115
        }
      ]
    },
    {
      "cell_type": "code",
      "metadata": {
        "id": "xWpzOk_gvmPG",
        "colab_type": "code",
        "colab": {}
      },
      "source": [
        "close = google['Adj Close']\n",
        "moving_avg = close.rolling(window=100).mean()"
      ],
      "execution_count": 0,
      "outputs": []
    },
    {
      "cell_type": "code",
      "metadata": {
        "id": "e9iFP9Vwwmkt",
        "colab_type": "code",
        "colab": {
          "base_uri": "https://localhost:8080/",
          "height": 497
        },
        "outputId": "d1807a88-34ca-48ee-f476-90d4ed84aa6c"
      },
      "source": [
        "%matplotlib inline\n",
        "from matplotlib import style\n",
        "import matplotlib as pl\n",
        "\n",
        "pl.rc('figure', figsize=(8,8))\n",
        "#pl.__version__c\n",
        "\n",
        "style.use('ggplot')\n",
        "\n",
        "close.plot(label='GOOGL')\n",
        "moving_avg.plot(label='Moving Avg')\n",
        "plt.legend()"
      ],
      "execution_count": 117,
      "outputs": [
        {
          "output_type": "execute_result",
          "data": {
            "text/plain": [
              "<matplotlib.legend.Legend at 0x7f0c777dddd8>"
            ]
          },
          "metadata": {
            "tags": []
          },
          "execution_count": 117
        },
        {
          "output_type": "display_data",
          "data": {
            "image/png": "[encoded data removed]",
            "text/plain": [
              "<Figure size 576x576 with 1 Axes>"
            ]
          },
          "metadata": {
            "tags": []
          }
        }
      ]
    },
    {
      "cell_type": "code",
      "metadata": {
        "id": "Xb_fDAQaxIyS",
        "colab_type": "code",
        "colab": {
          "base_uri": "https://localhost:8080/",
          "height": 497
        },
        "outputId": "8309f089-1dc3-4630-bbc9-8ae8adec221d"
      },
      "source": [
        "retrn = close / close.shift(1) - 1\n",
        "retrn.plot(label='return')"
      ],
      "execution_count": 118,
      "outputs": [
        {
          "output_type": "execute_result",
          "data": {
            "text/plain": [
              "<matplotlib.axes._subplots.AxesSubplot at 0x7f0c77808198>"
            ]
          },
          "metadata": {
            "tags": []
          },
          "execution_count": 118
        },
        {
          "output_type": "display_data",
          "data": {
            "image/png": "[encoded data removed]",
            "text/plain": [
              "<Figure size 576x576 with 1 Axes>"
            ]
          },
          "metadata": {
            "tags": []
          }
        }
      ]
    },
    {
      "cell_type": "code",
      "metadata": {
        "id": "m6hssMv7zz73",
        "colab_type": "code",
        "colab": {}
      },
      "source": [
        "#dfcomp = web.DataReader(['AAPL', 'GE', 'GOOG', 'IBM', 'MSFT'],'yahoo',start=start,end=end)['Adj Close']\n",
        "#dfcomp.head()"
      ],
      "execution_count": 0,
      "outputs": []
    },
    {
      "cell_type": "code",
      "metadata": {
        "id": "hlvuuUfNz9fq",
        "colab_type": "code",
        "colab": {
          "base_uri": "https://localhost:8080/",
          "height": 235
        },
        "outputId": "917d2e4d-8482-4f35-cd5a-876122203b1d"
      },
      "source": [
        "#Feature Engineering\n",
        "dfreg = google.loc[:,['Adj Close','Volume']]\n",
        "dfreg['HL_PCT'] = (google['High'] - google['Low']) / google['Close'] * 100.0\n",
        "dfreg['PCT_change'] = (google['Close'] - google['Open']) / google['Open'] * 100.0\n",
        "dfreg.head()"
      ],
      "execution_count": 120,
      "outputs": [
        {
          "output_type": "execute_result",
          "data": {
            "text/html": [
              "<div>\n",
              "<style scoped>\n",
              "    .dataframe tbody tr th:only-of-type {\n",
              "        vertical-align: middle;\n",
              "    }\n",
              "\n",
              "    .dataframe tbody tr th {\n",
              "        vertical-align: top;\n",
              "    }\n",
              "\n",
              "    .dataframe thead th {\n",
              "        text-align: right;\n",
              "    }\n",
              "</style>\n",
              "<table border=\"1\" class=\"dataframe\">\n",
              "  <thead>\n",
              "    <tr style=\"text-align: right;\">\n",
              "      <th></th>\n",
              "      <th>Adj Close</th>\n",
              "      <th>Volume</th>\n",
              "      <th>HL_PCT</th>\n",
              "      <th>PCT_change</th>\n",
              "    </tr>\n",
              "    <tr>\n",
              "      <th>Date</th>\n",
              "      <th></th>\n",
              "      <th></th>\n",
              "      <th></th>\n",
              "      <th></th>\n",
              "    </tr>\n",
              "  </thead>\n",
              "  <tbody>\n",
              "    <tr>\n",
              "      <th>2014-01-02</th>\n",
              "      <td>557.117126</td>\n",
              "      <td>3639100.0</td>\n",
              "      <td>0.852560</td>\n",
              "      <td>-0.209774</td>\n",
              "    </tr>\n",
              "    <tr>\n",
              "      <th>2014-01-03</th>\n",
              "      <td>553.053040</td>\n",
              "      <td>3330000.0</td>\n",
              "      <td>1.085979</td>\n",
              "      <td>-0.896861</td>\n",
              "    </tr>\n",
              "    <tr>\n",
              "      <th>2014-01-06</th>\n",
              "      <td>559.219238</td>\n",
              "      <td>3535000.0</td>\n",
              "      <td>1.111583</td>\n",
              "      <td>0.387240</td>\n",
              "    </tr>\n",
              "    <tr>\n",
              "      <th>2014-01-07</th>\n",
              "      <td>570.000000</td>\n",
              "      <td>5100000.0</td>\n",
              "      <td>1.627069</td>\n",
              "      <td>1.232002</td>\n",
              "    </tr>\n",
              "    <tr>\n",
              "      <th>2014-01-08</th>\n",
              "      <td>571.186157</td>\n",
              "      <td>4480500.0</td>\n",
              "      <td>1.229377</td>\n",
              "      <td>-0.416231</td>\n",
              "    </tr>\n",
              "  </tbody>\n",
              "</table>\n",
              "</div>"
            ],
            "text/plain": [
              "             Adj Close     Volume    HL_PCT  PCT_change\n",
              "Date                                                   \n",
              "2014-01-02  557.117126  3639100.0  0.852560   -0.209774\n",
              "2014-01-03  553.053040  3330000.0  1.085979   -0.896861\n",
              "2014-01-06  559.219238  3535000.0  1.111583    0.387240\n",
              "2014-01-07  570.000000  5100000.0  1.627069    1.232002\n",
              "2014-01-08  571.186157  4480500.0  1.229377   -0.416231"
            ]
          },
          "metadata": {
            "tags": []
          },
          "execution_count": 120
        }
      ]
    },
    {
      "cell_type": "code",
      "metadata": {
        "id": "zwHsIDGD7kxa",
        "colab_type": "code",
        "colab": {
          "base_uri": "https://localhost:8080/",
          "height": 252
        },
        "outputId": "bdb4c86d-9f4e-45f3-b4ba-22c120ba3a71"
      },
      "source": [
        "import math\n",
        "forecast_out = int(math.ceil(0.01 * len(dfreg)))\n",
        "print(forecast_out)\n",
        "# Separating the label here, we want to predict the AdjClose\n",
        "forecast_col = 'Adj Close'\n",
        "dfreg.head()\n"
      ],
      "execution_count": 121,
      "outputs": [
        {
          "output_type": "stream",
          "text": [
            "13\n"
          ],
          "name": "stdout"
        },
        {
          "output_type": "execute_result",
          "data": {
            "text/html": [
              "<div>\n",
              "<style scoped>\n",
              "    .dataframe tbody tr th:only-of-type {\n",
              "        vertical-align: middle;\n",
              "    }\n",
              "\n",
              "    .dataframe tbody tr th {\n",
              "        vertical-align: top;\n",
              "    }\n",
              "\n",
              "    .dataframe thead th {\n",
              "        text-align: right;\n",
              "    }\n",
              "</style>\n",
              "<table border=\"1\" class=\"dataframe\">\n",
              "  <thead>\n",
              "    <tr style=\"text-align: right;\">\n",
              "      <th></th>\n",
              "      <th>Adj Close</th>\n",
              "      <th>Volume</th>\n",
              "      <th>HL_PCT</th>\n",
              "      <th>PCT_change</th>\n",
              "    </tr>\n",
              "    <tr>\n",
              "      <th>Date</th>\n",
              "      <th></th>\n",
              "      <th></th>\n",
              "      <th></th>\n",
              "      <th></th>\n",
              "    </tr>\n",
              "  </thead>\n",
              "  <tbody>\n",
              "    <tr>\n",
              "      <th>2014-01-02</th>\n",
              "      <td>557.117126</td>\n",
              "      <td>3639100.0</td>\n",
              "      <td>0.852560</td>\n",
              "      <td>-0.209774</td>\n",
              "    </tr>\n",
              "    <tr>\n",
              "      <th>2014-01-03</th>\n",
              "      <td>553.053040</td>\n",
              "      <td>3330000.0</td>\n",
              "      <td>1.085979</td>\n",
              "      <td>-0.896861</td>\n",
              "    </tr>\n",
              "    <tr>\n",
              "      <th>2014-01-06</th>\n",
              "      <td>559.219238</td>\n",
              "      <td>3535000.0</td>\n",
              "      <td>1.111583</td>\n",
              "      <td>0.387240</td>\n",
              "    </tr>\n",
              "    <tr>\n",
              "      <th>2014-01-07</th>\n",
              "      <td>570.000000</td>\n",
              "      <td>5100000.0</td>\n",
              "      <td>1.627069</td>\n",
              "      <td>1.232002</td>\n",
              "    </tr>\n",
              "    <tr>\n",
              "      <th>2014-01-08</th>\n",
              "      <td>571.186157</td>\n",
              "      <td>4480500.0</td>\n",
              "      <td>1.229377</td>\n",
              "      <td>-0.416231</td>\n",
              "    </tr>\n",
              "  </tbody>\n",
              "</table>\n",
              "</div>"
            ],
            "text/plain": [
              "             Adj Close     Volume    HL_PCT  PCT_change\n",
              "Date                                                   \n",
              "2014-01-02  557.117126  3639100.0  0.852560   -0.209774\n",
              "2014-01-03  553.053040  3330000.0  1.085979   -0.896861\n",
              "2014-01-06  559.219238  3535000.0  1.111583    0.387240\n",
              "2014-01-07  570.000000  5100000.0  1.627069    1.232002\n",
              "2014-01-08  571.186157  4480500.0  1.229377   -0.416231"
            ]
          },
          "metadata": {
            "tags": []
          },
          "execution_count": 121
        }
      ]
    },
    {
      "cell_type": "code",
      "metadata": {
        "id": "m5paab4S72W-",
        "colab_type": "code",
        "colab": {
          "base_uri": "https://localhost:8080/",
          "height": 68
        },
        "outputId": "0e7741c2-2c41-495c-9284-233c56c29d45"
      },
      "source": [
        "import math\n",
        "import numpy as np\n",
        "from sklearn import preprocessing\n",
        "\n",
        "# Drop missing value\n",
        "dfreg.fillna(value=-99999, inplace=True)\n",
        "\n",
        "print(dfreg.shape)\n",
        "# We want to separate 1 percent of the data to forecast the results\n",
        "forecast_out = int(math.ceil(0.01 * len(dfreg)))\n",
        "\n",
        "# Separating the label here, we want to predict the AdjClose\n",
        "dfreg['label'] = dfreg['Adj Close'].shift(-forecast_out)\n",
        "X = np.array(dfreg.drop(['label'], 1))\n",
        "\n",
        "# Scale the X so that everyone can have the same distribution for linear regression\n",
        "X = preprocessing.scale(X)\n",
        "\n",
        "# Finally We want to find Data Series of late X and early X (train) for model generation and evaluation\n",
        "X_lately = X[-forecast_out:]\n",
        "X = X[:-forecast_out]\n",
        "\n",
        "# Separate label and identify it as y\n",
        "y = np.array(dfreg['label'])\n",
        "y = y[:-forecast_out]\n",
        "\n",
        "print('Dimension of X',X.shape)\n",
        "print('Dimension of y',y.shape)"
      ],
      "execution_count": 122,
      "outputs": [
        {
          "output_type": "stream",
          "text": [
            "(1258, 4)\n",
            "Dimension of X (1245, 4)\n",
            "Dimension of y (1245,)\n"
          ],
          "name": "stdout"
        }
      ]
    },
    {
      "cell_type": "code",
      "metadata": {
        "id": "Xl7N3S0y9bf8",
        "colab_type": "code",
        "colab": {}
      },
      "source": [
        "# Necessary imports\n",
        "import math\n",
        "import numpy as np\n",
        "from sklearn.model_selection import train_test_split\n",
        "\n",
        "# Model generation\n",
        "from sklearn.linear_model import LinearRegression\n",
        "from sklearn.neighbors import KNeighborsRegressor\n",
        "\n",
        "from sklearn.linear_model import Ridge\n",
        "from sklearn.preprocessing import PolynomialFeatures\n",
        "from sklearn.pipeline import make_pipeline"
      ],
      "execution_count": 0,
      "outputs": []
    },
    {
      "cell_type": "code",
      "metadata": {
        "id": "iUnWHr3N8CS5",
        "colab_type": "code",
        "colab": {}
      },
      "source": [
        "# Separation of training and testing of model by cross validation train test split\n",
        "\n",
        "X_train, X_test, y_train, y_test = train_test_split(X, y, test_size=0.2)"
      ],
      "execution_count": 0,
      "outputs": []
    },
    {
      "cell_type": "code",
      "metadata": {
        "id": "KdQJE_6A8N1M",
        "colab_type": "code",
        "colab": {
          "base_uri": "https://localhost:8080/",
          "height": 170
        },
        "outputId": "dfd3a7e7-f7b0-4f92-a451-9661500918a7"
      },
      "source": [
        "# Linear regression\n",
        "clfreg = LinearRegression(n_jobs=-1)\n",
        "clfreg.fit(X_train, y_train)\n",
        "\n",
        "# Quadratic Regression 2\n",
        "clfpoly2 = make_pipeline(PolynomialFeatures(2), Ridge())\n",
        "clfpoly2.fit(X_train, y_train)\n",
        "\n",
        "# Quadratic Regression 3\n",
        "clfpoly3 = make_pipeline(PolynomialFeatures(3), Ridge())\n",
        "clfpoly3.fit(X_train, y_train)"
      ],
      "execution_count": 125,
      "outputs": [
        {
          "output_type": "execute_result",
          "data": {
            "text/plain": [
              "Pipeline(memory=None,\n",
              "         steps=[('polynomialfeatures',\n",
              "                 PolynomialFeatures(degree=3, include_bias=True,\n",
              "                                    interaction_only=False, order='C')),\n",
              "                ('ridge',\n",
              "                 Ridge(alpha=1.0, copy_X=True, fit_intercept=True,\n",
              "                       max_iter=None, normalize=False, random_state=None,\n",
              "                       solver='auto', tol=0.001))],\n",
              "         verbose=False)"
            ]
          },
          "metadata": {
            "tags": []
          },
          "execution_count": 125
        }
      ]
    },
    {
      "cell_type": "code",
      "metadata": {
        "id": "g0wDMqSr8RmO",
        "colab_type": "code",
        "colab": {
          "base_uri": "https://localhost:8080/",
          "height": 68
        },
        "outputId": "ec8bcd3e-c93a-43a2-9580-ec260572fdab"
      },
      "source": [
        "# KNN Regression\n",
        "clfknn = KNeighborsRegressor(n_neighbors=2)\n",
        "clfknn.fit(X_train, y_train)"
      ],
      "execution_count": 126,
      "outputs": [
        {
          "output_type": "execute_result",
          "data": {
            "text/plain": [
              "KNeighborsRegressor(algorithm='auto', leaf_size=30, metric='minkowski',\n",
              "                    metric_params=None, n_jobs=None, n_neighbors=2, p=2,\n",
              "                    weights='uniform')"
            ]
          },
          "metadata": {
            "tags": []
          },
          "execution_count": 126
        }
      ]
    },
    {
      "cell_type": "code",
      "metadata": {
        "id": "Ng0S_fG58Zf9",
        "colab_type": "code",
        "colab": {
          "base_uri": "https://localhost:8080/",
          "height": 85
        },
        "outputId": "938ae536-76f3-44c5-c406-9b4495aaec46"
      },
      "source": [
        "print('Reg1 Score: ' + str(clfreg.score(X_test, y_test)))\n",
        "print('Reg2 Score: ' + str(clfpoly2.score(X_test,y_test)))\n",
        "print('Reg3 Score: ' + str(clfpoly3.score(X_test,y_test)))\n",
        "print('KNN Score: ' + str(clfknn.score(X_test, y_test)))"
      ],
      "execution_count": 127,
      "outputs": [
        {
          "output_type": "stream",
          "text": [
            "Reg1 Score: 0.9717811668984518\n",
            "Reg2 Score: 0.9716889421076071\n",
            "Reg3 Score: 0.9703560761007074\n",
            "KNN Score: 0.9293421094416958\n"
          ],
          "name": "stdout"
        }
      ]
    },
    {
      "cell_type": "code",
      "metadata": {
        "id": "5MrGPtqu8e1G",
        "colab_type": "code",
        "colab": {
          "base_uri": "https://localhost:8080/",
          "height": 68
        },
        "outputId": "e1204399-6f87-429f-da3b-73947be4eb89"
      },
      "source": [
        "forecast_set = clfreg.predict(X_lately)\n",
        "dfreg['Forecast'] = np.nan\n",
        "print(forecast_set,  forecast_out)"
      ],
      "execution_count": 128,
      "outputs": [
        {
          "output_type": "stream",
          "text": [
            "[1077.03409499 1078.50307909 1055.59989123 1036.69366482 1045.88012721\n",
            " 1046.64709994 1029.55424406  999.50387298  992.89781407 1052.06769723\n",
            " 1057.50932189 1051.6045255  1052.52040283] 13\n"
          ],
          "name": "stdout"
        }
      ]
    },
    {
      "cell_type": "code",
      "metadata": {
        "id": "WUUT33CN8mDk",
        "colab_type": "code",
        "colab": {
          "base_uri": "https://localhost:8080/",
          "height": 480
        },
        "outputId": "ce976bf5-5494-4ab8-c027-8c4c1650a6d7"
      },
      "source": [
        "last_date = dfreg.iloc[-1].name\n",
        "last_unix = last_date\n",
        "next_unix = last_unix + datetime.timedelta(days=1)\n",
        "\n",
        "for i in forecast_set:\n",
        "    next_date = next_unix\n",
        "    next_unix += datetime.timedelta(days=1)\n",
        "    dfreg.loc[next_date] = [np.nan for _ in range(len(dfreg.columns)-1)]+[i]\n",
        "    \n",
        "dfreg['Adj Close'].tail(500).plot()\n",
        "dfreg['Forecast'].tail(500).plot()\n",
        "plt.legend(loc=4)\n",
        "plt.xlabel('Date')\n",
        "plt.ylabel('Price')\n",
        "plt.show()"
      ],
      "execution_count": 129,
      "outputs": [
        {
          "output_type": "display_data",
          "data": {
            "image/png": "[encoded data removed]",
            "text/plain": [
              "<Figure size 576x576 with 1 Axes>"
            ]
          },
          "metadata": {
            "tags": []
          }
        }
      ]
    },
    {
      "cell_type": "markdown",
      "metadata": {
        "id": "ZgFZEGV9bvls",
        "colab_type": "text"
      },
      "source": [
        "\n",
        "\n",
        "---\n",
        "\n"
      ]
    },
    {
      "cell_type": "markdown",
      "metadata": {
        "id": "GsqehD6ObG-v",
        "colab_type": "text"
      },
      "source": [
        "\n",
        "\n",
        "\n",
        "\n",
        "![alt text](http://www.foxbyrd.com/wp-content/uploads/2018/02/file-4.jpg)\n",
        "\n",
        "\n",
        "\n",
        "\n"
      ]
    },
    {
      "cell_type": "markdown",
      "metadata": {
        "id": "friQkNaTa_m0",
        "colab_type": "text"
      },
      "source": [
        "\n",
        "\n",
        "---\n",
        "\n"
      ]
    },
    {
      "cell_type": "code",
      "metadata": {
        "id": "Vs8S2kJHbhWb",
        "colab_type": "code",
        "colab": {}
      },
      "source": [
        ""
      ],
      "execution_count": 0,
      "outputs": []
    }
  ]
}